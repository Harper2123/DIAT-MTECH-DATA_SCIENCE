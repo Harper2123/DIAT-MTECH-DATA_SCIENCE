{
 "cells": [
  {
   "cell_type": "code",
   "execution_count": 1,
   "metadata": {},
   "outputs": [],
   "source": [
    "import pandas as pd\n",
    "import numpy as np\n",
    "from collections import Counter\n",
    "from sklearn.model_selection import train_test_split"
   ]
  },
  {
   "cell_type": "code",
   "execution_count": 2,
   "metadata": {},
   "outputs": [],
   "source": [
    "def euclidean_distance(x1, x2):\n",
    "    \"\"\"\n",
    "    Calculate the Euclidean distance between two points.\n",
    "\n",
    "    Parameters:\n",
    "    - x1 (numpy array): First point.\n",
    "    - x2 (numpy array): Second point.\n",
    "\n",
    "    Returns:\n",
    "    - float: Euclidean distance between x1 and x2.\n",
    "    \"\"\"\n",
    "    return np.sqrt(np.sum((x1 - x2) ** 2))\n"
   ]
  },
  {
   "cell_type": "code",
   "execution_count": 3,
   "metadata": {},
   "outputs": [],
   "source": [
    "def knn_predict(X_train, y_train, x_test, k):\n",
    "    \"\"\"\n",
    "    Predict the label for a test point using K-Nearest Neighbors.\n",
    "\n",
    "    Parameters:\n",
    "    - X_train (numpy array): Training features.\n",
    "    - y_train (numpy array): Training labels.\n",
    "    - x_test (numpy array): Test point.\n",
    "    - k (int): Number of neighbors to consider.\n",
    "\n",
    "    Returns:\n",
    "    - int: Predicted label for the test point.\n",
    "    \"\"\"\n",
    "    # Calculate distances between the test point and all training points\n",
    "    distances = [euclidean_distance(x_test, x) for x in X_train]\n",
    "\n",
    "    # Get indices of the k-nearest neighbors\n",
    "    k_neighbors_indices = np.argsort(distances)[:k]\n",
    "\n",
    "    # Get labels of the k-nearest neighbors\n",
    "    k_nearest_labels = [y_train[i] for i in k_neighbors_indices]\n",
    "\n",
    "    # Find the most common label among the k-nearest neighbors\n",
    "    most_common = Counter(k_nearest_labels).most_common(1)\n",
    "\n",
    "    # Return the predicted label\n",
    "    return most_common[0][0]\n"
   ]
  },
  {
   "cell_type": "code",
   "execution_count": 4,
   "metadata": {},
   "outputs": [],
   "source": [
    "def knn_accuracy(X_train, y_train, X_test, y_test, k):\n",
    "    \"\"\"\n",
    "    Calculate the accuracy of the K-Nearest Neighbors model.\n",
    "\n",
    "    Parameters:\n",
    "    - X_train (numpy array): Training features.\n",
    "    - y_train (numpy array): Training labels.\n",
    "    - X_test (numpy array): Test features.\n",
    "    - y_test (numpy array): Test labels.\n",
    "    - k (int): Number of neighbors to consider.\n",
    "\n",
    "    Returns:\n",
    "    - float: Accuracy of the model.\n",
    "    \"\"\"\n",
    "    # Make predictions for all test points\n",
    "    predictions = [knn_predict(X_train, y_train, x_test, k)\n",
    "                   for x_test in X_test]\n",
    "\n",
    "    # Count the number of correct predictions\n",
    "    correct_predictions = sum(\n",
    "        predictions[i] == y_test[i] for i in range(len(y_test)))\n",
    "\n",
    "    # Calculate accuracy\n",
    "    accuracy = (correct_predictions / len(y_test)) * 100\n",
    "\n",
    "    # Return the accuracy\n",
    "    return accuracy\n"
   ]
  },
  {
   "cell_type": "code",
   "execution_count": 5,
   "metadata": {},
   "outputs": [
    {
     "name": "stdout",
     "output_type": "stream",
     "text": [
      "   sepal.length  sepal.width  petal.length  petal.width variety\n",
      "0           5.1          3.5           1.4          0.2  Setosa\n",
      "1           4.9          3.0           1.4          0.2  Setosa\n",
      "2           4.7          3.2           1.3          0.2  Setosa\n",
      "3           4.6          3.1           1.5          0.2  Setosa\n",
      "4           5.0          3.6           1.4          0.2  Setosa\n"
     ]
    }
   ],
   "source": [
    "# Load the dataset\n",
    "iris_data = pd.read_csv('datasets/iris.csv')\n",
    "print(iris_data.head())\n",
    "# Split the data into features (X) and labels (y)\n",
    "X = iris_data.iloc[:, :-1].values\n",
    "y = iris_data.iloc[:, -1].values\n"
   ]
  },
  {
   "cell_type": "code",
   "execution_count": 6,
   "metadata": {},
   "outputs": [],
   "source": [
    "# Initialize arrays for training and testing sets\n",
    "X_train = []\n",
    "y_train = []\n",
    "X_test = []\n",
    "y_test = []\n",
    "\n",
    "# Split the data for each category\n",
    "for category in np.unique(y):\n",
    "    # Filter data for the current category\n",
    "    category_indices = np.where(y == category)[0]\n",
    "    category_data = X[category_indices]\n",
    "\n",
    "    # Split the data into training (90%) and testing (10%) for the current category\n",
    "    category_X_train, category_X_test = train_test_split(category_data, test_size=0.1, random_state=42)\n",
    "\n",
    "    # Append the category data to the overall training and testing sets\n",
    "    X_train.extend(category_X_train)\n",
    "    y_train.extend([category] * len(category_X_train))\n",
    "    X_test.extend(category_X_test)\n",
    "    y_test.extend([category] * len(category_X_test))\n",
    "\n",
    "# Convert lists to numpy arrays\n",
    "X_train = np.array(X_train)\n",
    "y_train = np.array(y_train)\n",
    "X_test = np.array(X_test)\n",
    "y_test = np.array(y_test)\n"
   ]
  },
  {
   "cell_type": "code",
   "execution_count": 7,
   "metadata": {},
   "outputs": [
    {
     "name": "stdout",
     "output_type": "stream",
     "text": [
      "Counter({'Setosa': 45, 'Versicolor': 45, 'Virginica': 45})\n",
      "Counter({'Setosa': 5, 'Versicolor': 5, 'Virginica': 5})\n"
     ]
    }
   ],
   "source": [
    "#Counting occurence of unique values in training and testing samples\n",
    "print(Counter(y_train))\n",
    "print(Counter(y_test))"
   ]
  },
  {
   "cell_type": "code",
   "execution_count": 8,
   "metadata": {},
   "outputs": [
    {
     "name": "stdout",
     "output_type": "stream",
     "text": [
      "Accuracy for K=3: 100.0%\n",
      "Accuracy for K=5: 100.0%\n"
     ]
    }
   ],
   "source": [
    "# Test the model for K=3 and K=5\n",
    "accuracy_3 = knn_accuracy(X_train, y_train, X_test, y_test, k=3)\n",
    "accuracy_5 = knn_accuracy(X_train, y_train, X_test, y_test, k=5)\n",
    "\n",
    "print(f'Accuracy for K=3: {accuracy_3}%')\n",
    "print(f'Accuracy for K=5: {accuracy_5}%')"
   ]
  }
 ],
 "metadata": {
  "kernelspec": {
   "display_name": "Python 3",
   "language": "python",
   "name": "python3"
  },
  "language_info": {
   "codemirror_mode": {
    "name": "ipython",
    "version": 3
   },
   "file_extension": ".py",
   "mimetype": "text/x-python",
   "name": "python",
   "nbconvert_exporter": "python",
   "pygments_lexer": "ipython3",
   "version": "3.6.8"
  }
 },
 "nbformat": 4,
 "nbformat_minor": 2
}
