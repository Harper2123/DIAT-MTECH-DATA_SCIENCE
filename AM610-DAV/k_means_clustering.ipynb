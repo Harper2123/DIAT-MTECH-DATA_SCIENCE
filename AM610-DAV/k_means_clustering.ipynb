{
 "cells": [
  {
   "cell_type": "code",
   "execution_count": 1,
   "metadata": {},
   "outputs": [],
   "source": [
    "#Importing Necessary Libraries\n",
    "import numpy as np\n",
    "import pandas as pd"
   ]
  },
  {
   "cell_type": "markdown",
   "metadata": {},
   "source": [
    "## Creating a Custom K means Class"
   ]
  },
  {
   "cell_type": "code",
   "execution_count": 2,
   "metadata": {},
   "outputs": [],
   "source": [
    "class KMeansCustom:\n",
    "    \"\"\"\n",
    "    Custom implementation of the k-means clustering algorithm.\n",
    "\n",
    "    Parameters:\n",
    "    - n_clusters (int): The number of clusters.\n",
    "    - initial_centers (ndarray, optional): Initial cluster centers. If not provided, they are randomly initialized.\n",
    "    - random_state (int, optional): Seed for random number generation. Defaults to None.\n",
    "    \"\"\"\n",
    "\n",
    "    def __init__(self, n_clusters, initial_centers=None, random_state=None):\n",
    "        self.k = n_clusters\n",
    "        self.centroids = initial_centers\n",
    "        self.labels = None\n",
    "        self.random_state = random_state\n",
    "\n",
    "    def fit(self, X, max_iterations=100):\n",
    "        \"\"\"\n",
    "        Fit the k-means model to the input data.\n",
    "\n",
    "        Parameters:\n",
    "        - X (ndarray): Input data.\n",
    "        - max_iterations (int, optional): Maximum number of iterations. Defaults to 100.\n",
    "        \"\"\"\n",
    "        # Set seed for random number generation\n",
    "        np.random.seed(self.random_state)\n",
    "\n",
    "        # If initial centroids are not provided, randomly initialize them\n",
    "        if self.centroids is None:\n",
    "            self.centroids = X[np.random.choice(\n",
    "                X.shape[0], self.k, replace=False)]\n",
    "\n",
    "        for _ in range(max_iterations):\n",
    "            # Assign each data point to the nearest centroid\n",
    "            distances = np.linalg.norm(\n",
    "                X[:, np.newaxis] - self.centroids, axis=2)\n",
    "            self.labels = np.argmin(distances, axis=1)\n",
    "\n",
    "            # Update centroids based on mean of assigned points\n",
    "            new_centroids = np.array(\n",
    "                [X[self.labels == i].mean(axis=0) for i in range(self.k)])\n",
    "\n",
    "            # Check for convergence\n",
    "            if np.all(new_centroids == self.centroids):\n",
    "                break\n",
    "\n",
    "            self.centroids = new_centroids\n",
    "\n",
    "    def get_centers(self):\n",
    "        \"\"\"\n",
    "        Get the cluster centers.\n",
    "\n",
    "        Returns:\n",
    "        - ndarray: Cluster centers.\n",
    "        \"\"\"\n",
    "        return self.centroids\n",
    "\n",
    "    def get_labels(self):\n",
    "        \"\"\"\n",
    "        Get the labels assigned to each data point.\n",
    "\n",
    "        Returns:\n",
    "        - ndarray: Array of labels.\n",
    "        \"\"\"\n",
    "        return self.labels\n"
   ]
  },
  {
   "cell_type": "markdown",
   "metadata": {},
   "source": [
    "## Testing the code"
   ]
  },
  {
   "cell_type": "code",
   "execution_count": 3,
   "metadata": {},
   "outputs": [],
   "source": [
    "df = pd.read_csv('datasets/iris.csv')\n",
    "\n",
    "#Removing category column\n",
    "X = df.iloc[:, :-1].values\n"
   ]
  },
  {
   "cell_type": "markdown",
   "metadata": {},
   "source": [
    "### Without passing initial centroids and going for 200 iterations"
   ]
  },
  {
   "cell_type": "code",
   "execution_count": 4,
   "metadata": {},
   "outputs": [],
   "source": [
    "# For k = 2\n",
    "k_means_random_2 = KMeansCustom(n_clusters=2, random_state=42)\n",
    "k_means_random_2.fit(X, max_iterations=200)\n",
    "\n",
    "# For k = 3\n",
    "k_means_random_3 = KMeansCustom(n_clusters=3, random_state=42)\n",
    "k_means_random_3.fit(X, max_iterations=200)"
   ]
  },
  {
   "cell_type": "code",
   "execution_count": 5,
   "metadata": {},
   "outputs": [
    {
     "name": "stdout",
     "output_type": "stream",
     "text": [
      "----------------------------------------------------------------------------------------------------\n",
      "For k = 2\n",
      "Cluster centers:- [[6.30103093 2.88659794 4.95876289 1.69587629]\n",
      " [5.00566038 3.36981132 1.56037736 0.29056604]]\n",
      "Labels:- [1 1 1 1 1 1 1 1 1 1 1 1 1 1 1 1 1 1 1 1 1 1 1 1 1 1 1 1 1 1 1 1 1 1 1 1 1\n",
      " 1 1 1 1 1 1 1 1 1 1 1 1 1 0 0 0 0 0 0 0 1 0 0 0 0 0 0 0 0 0 0 0 0 0 0 0 0\n",
      " 0 0 0 0 0 0 0 0 0 0 0 0 0 0 0 0 0 0 0 1 0 0 0 0 1 0 0 0 0 0 0 0 0 0 0 0 0\n",
      " 0 0 0 0 0 0 0 0 0 0 0 0 0 0 0 0 0 0 0 0 0 0 0 0 0 0 0 0 0 0 0 0 0 0 0 0 0\n",
      " 0 0]\n",
      "----------------------------------------------------------------------------------------------------\n",
      "For k = 3\n",
      "Cluster centers:- [[5.9016129  2.7483871  4.39354839 1.43387097]\n",
      " [5.006      3.428      1.462      0.246     ]\n",
      " [6.85       3.07368421 5.74210526 2.07105263]]\n",
      "Labels:- [1 1 1 1 1 1 1 1 1 1 1 1 1 1 1 1 1 1 1 1 1 1 1 1 1 1 1 1 1 1 1 1 1 1 1 1 1\n",
      " 1 1 1 1 1 1 1 1 1 1 1 1 1 0 0 2 0 0 0 0 0 0 0 0 0 0 0 0 0 0 0 0 0 0 0 0 0\n",
      " 0 0 0 2 0 0 0 0 0 0 0 0 0 0 0 0 0 0 0 0 0 0 0 0 0 0 2 0 2 2 2 2 0 2 2 2 2\n",
      " 2 2 0 0 2 2 2 2 0 2 0 2 0 2 2 0 0 2 2 2 2 2 0 2 2 2 2 0 2 2 2 0 2 2 2 0 2\n",
      " 2 0]\n"
     ]
    }
   ],
   "source": [
    "print(\"-\"*100)\n",
    "print(\"For k = 2\")\n",
    "print(f\"Cluster centers:- {k_means_random_2.get_centers()}\")\n",
    "print(f\"Labels:- {k_means_random_2.get_labels()}\")\n",
    "print(\"-\"*100)\n",
    "print(\"For k = 3\")\n",
    "print(f\"Cluster centers:- {k_means_random_3.get_centers()}\")\n",
    "print(f\"Labels:- {k_means_random_3.get_labels()}\")\n"
   ]
  },
  {
   "cell_type": "markdown",
   "metadata": {},
   "source": [
    "### With passing initial centroid and going for 200 iterations"
   ]
  },
  {
   "cell_type": "code",
   "execution_count": 6,
   "metadata": {},
   "outputs": [],
   "source": [
    "initial_centroid_2 = np.array([[4.0, 3.0, 1.3, 0.2], [6.0, 3.0, 4.8, 1.8]])\n",
    "initial_centroid_3 = np.array([[4.0, 3.0, 1.3, 0.2], [6.0, 3.0, 4.8, 1.8], [7.0, 3.2, 6.0, 2.0]])\n",
    "\n",
    "# For k = 2\n",
    "k_means_custom_2 = KMeansCustom(n_clusters=2, initial_centers=initial_centroid_2, random_state=42)\n",
    "k_means_custom_2.fit(X, max_iterations=200)\n",
    "\n",
    "# For k = 3\n",
    "k_means_custom_3 = KMeansCustom(n_clusters=3, initial_centers=initial_centroid_3, random_state=42)\n",
    "k_means_custom_3.fit(X, max_iterations=200)"
   ]
  },
  {
   "cell_type": "code",
   "execution_count": 7,
   "metadata": {},
   "outputs": [
    {
     "name": "stdout",
     "output_type": "stream",
     "text": [
      "----------------------------------------------------------------------------------------------------\n",
      "For k = 2\n",
      "Cluster centers:- [[5.00566038 3.36981132 1.56037736 0.29056604]\n",
      " [6.30103093 2.88659794 4.95876289 1.69587629]]\n",
      "Labels:- [0 0 0 0 0 0 0 0 0 0 0 0 0 0 0 0 0 0 0 0 0 0 0 0 0 0 0 0 0 0 0 0 0 0 0 0 0\n",
      " 0 0 0 0 0 0 0 0 0 0 0 0 0 1 1 1 1 1 1 1 0 1 1 1 1 1 1 1 1 1 1 1 1 1 1 1 1\n",
      " 1 1 1 1 1 1 1 1 1 1 1 1 1 1 1 1 1 1 1 0 1 1 1 1 0 1 1 1 1 1 1 1 1 1 1 1 1\n",
      " 1 1 1 1 1 1 1 1 1 1 1 1 1 1 1 1 1 1 1 1 1 1 1 1 1 1 1 1 1 1 1 1 1 1 1 1 1\n",
      " 1 1]\n",
      "----------------------------------------------------------------------------------------------------\n",
      "For k = 3\n",
      "Cluster centers:- [[5.006      3.428      1.462      0.246     ]\n",
      " [5.9016129  2.7483871  4.39354839 1.43387097]\n",
      " [6.85       3.07368421 5.74210526 2.07105263]]\n",
      "Labels:- [0 0 0 0 0 0 0 0 0 0 0 0 0 0 0 0 0 0 0 0 0 0 0 0 0 0 0 0 0 0 0 0 0 0 0 0 0\n",
      " 0 0 0 0 0 0 0 0 0 0 0 0 0 1 1 2 1 1 1 1 1 1 1 1 1 1 1 1 1 1 1 1 1 1 1 1 1\n",
      " 1 1 1 2 1 1 1 1 1 1 1 1 1 1 1 1 1 1 1 1 1 1 1 1 1 1 2 1 2 2 2 2 1 2 2 2 2\n",
      " 2 2 1 1 2 2 2 2 1 2 1 2 1 2 2 1 1 2 2 2 2 2 1 2 2 2 2 1 2 2 2 1 2 2 2 1 2\n",
      " 2 1]\n"
     ]
    }
   ],
   "source": [
    "print(\"-\"*100)\n",
    "print(\"For k = 2\")\n",
    "print(f\"Cluster centers:- {k_means_custom_2.get_centers()}\")\n",
    "print(f\"Labels:- {k_means_custom_2.get_labels()}\")\n",
    "print(\"-\"*100)\n",
    "print(\"For k = 3\")\n",
    "print(f\"Cluster centers:- {k_means_custom_3.get_centers()}\")\n",
    "print(f\"Labels:- {k_means_custom_3.get_labels()}\")\n"
   ]
  }
 ],
 "metadata": {
  "kernelspec": {
   "display_name": "Python 3",
   "language": "python",
   "name": "python3"
  },
  "language_info": {
   "codemirror_mode": {
    "name": "ipython",
    "version": 3
   },
   "file_extension": ".py",
   "mimetype": "text/x-python",
   "name": "python",
   "nbconvert_exporter": "python",
   "pygments_lexer": "ipython3",
   "version": "3.6.8"
  }
 },
 "nbformat": 4,
 "nbformat_minor": 2
}
