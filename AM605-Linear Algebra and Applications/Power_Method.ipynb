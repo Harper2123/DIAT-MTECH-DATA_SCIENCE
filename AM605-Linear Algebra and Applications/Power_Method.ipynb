{
 "cells": [
  {
   "cell_type": "markdown",
   "metadata": {},
   "source": [
    "## Finding Dominant Eigenvalue and Eigenvector using Power Method"
   ]
  },
  {
   "cell_type": "code",
   "execution_count": 3,
   "metadata": {},
   "outputs": [],
   "source": [
    "import numpy as np\n",
    "\n",
    "def power_method(A, num_iterations=1000, tolerance=1e-6):\n",
    "    n = A.shape[0]\n",
    "    \n",
    "    # Initialize a random vector as an approximation to the dominant eigenvector\n",
    "    x = np.random.rand(n)\n",
    "    x /= np.linalg.norm(x)\n",
    "\n",
    "    for i in range(num_iterations):\n",
    "        # Perform the power iteration\n",
    "        x_old = x\n",
    "        x = np.dot(A, x)\n",
    "        \n",
    "        # Normalize the eigenvector\n",
    "        x /= np.linalg.norm(x)\n",
    "\n",
    "        # Check for convergence\n",
    "        if np.linalg.norm(x - x_old) < tolerance:\n",
    "            break\n",
    "\n",
    "    # Calculate the dominant eigenvalue\n",
    "    eigenvalue = np.dot(x, np.dot(A, x))\n",
    "\n",
    "    return eigenvalue.round(3), x.round(3)"
   ]
  },
  {
   "cell_type": "code",
   "execution_count": 4,
   "metadata": {},
   "outputs": [
    {
     "name": "stdout",
     "output_type": "stream",
     "text": [
      "Original matrix A:\n",
      " [[ 1.  2.  0.]\n",
      " [ 2.  1.  0.]\n",
      " [ 0.  0. -1.]]\n",
      "\n",
      "Dominant eigenvalue: 3.0\n",
      "Dominant eigenvector: [ 0.707  0.707 -0.   ]\n"
     ]
    }
   ],
   "source": [
    "# Example usage:\n",
    "A = np.array([[1., 2., 0.], [2., 1., 0.], [0., 0., -1.]])\n",
    "dominant_eigenvalue, dominant_eigenvector = power_method(A)\n",
    "\n",
    "print(\"Original matrix A:\\n\", A)\n",
    "print(\"\\nDominant eigenvalue:\", dominant_eigenvalue)\n",
    "print(\"Dominant eigenvector:\", dominant_eigenvector)"
   ]
  }
 ],
 "metadata": {
  "kernelspec": {
   "display_name": "Python 3",
   "language": "python",
   "name": "python3"
  },
  "language_info": {
   "codemirror_mode": {
    "name": "ipython",
    "version": 3
   },
   "file_extension": ".py",
   "mimetype": "text/x-python",
   "name": "python",
   "nbconvert_exporter": "python",
   "pygments_lexer": "ipython3",
   "version": "3.6.8"
  }
 },
 "nbformat": 4,
 "nbformat_minor": 2
}
