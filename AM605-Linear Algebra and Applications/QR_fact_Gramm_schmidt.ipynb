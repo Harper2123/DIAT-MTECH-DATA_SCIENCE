{
 "cells": [
  {
   "cell_type": "markdown",
   "metadata": {},
   "source": [
    "# QR Factorization using Gramm Schmidt"
   ]
  },
  {
   "cell_type": "code",
   "execution_count": 9,
   "metadata": {},
   "outputs": [],
   "source": [
    "import numpy as np\n",
    "\n",
    "def qr_gram_schmidt(A):\n",
    "    m, n = A.shape\n",
    "    Q = np.zeros((m, n))\n",
    "    R = np.zeros((n, n))\n",
    "\n",
    "    for j in range(n):\n",
    "        v = A[:, j]\n",
    "        for i in range(j):\n",
    "            R[i, j] = np.dot(Q[:, i].T, A[:, j])\n",
    "            v -= R[i, j] * Q[:, i]\n",
    "        R[j, j] = np.linalg.norm(v)\n",
    "        Q[:, j] = v / R[j, j]\n",
    "\n",
    "    return Q.round(3), R.round(3)"
   ]
  },
  {
   "cell_type": "code",
   "execution_count": 11,
   "metadata": {},
   "outputs": [
    {
     "name": "stdout",
     "output_type": "stream",
     "text": [
      "Orthogonal matrix Q:\n",
      "[[ 0.707  0.577 -0.408]\n",
      " [ 0.     0.577  0.816]\n",
      " [ 0.707 -0.577  0.408]]\n",
      "**************************************************\n",
      "Upper triangular matrix R:\n",
      "[[1.414 1.414 0.707]\n",
      " [0.    1.732 0.   ]\n",
      " [0.    0.    1.225]]\n"
     ]
    }
   ],
   "source": [
    "# Create a matrix A\n",
    "A = np.array([[1., 2., 0.], [0., 1., 1.], [1., 0., 1.]])\n",
    "\n",
    "# Perform QR factorization using the Gram-Schmidt process\n",
    "Q, R = qr_gram_schmidt(A)\n",
    "\n",
    "# Print the orthogonal matrix Q\n",
    "print(\"Orthogonal matrix Q:\")\n",
    "print(Q)\n",
    "print(\"*\"*50)\n",
    "# Print the upper triangular matrix R\n",
    "print(\"Upper triangular matrix R:\")\n",
    "print(R)\n"
   ]
  }
 ],
 "metadata": {
  "kernelspec": {
   "display_name": "Python 3",
   "language": "python",
   "name": "python3"
  },
  "language_info": {
   "codemirror_mode": {
    "name": "ipython",
    "version": 3
   },
   "file_extension": ".py",
   "mimetype": "text/x-python",
   "name": "python",
   "nbconvert_exporter": "python",
   "pygments_lexer": "ipython3",
   "version": "3.6.8"
  }
 },
 "nbformat": 4,
 "nbformat_minor": 2
}
