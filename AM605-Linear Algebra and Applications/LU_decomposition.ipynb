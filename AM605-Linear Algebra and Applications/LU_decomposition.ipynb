{
 "cells": [
  {
   "cell_type": "markdown",
   "metadata": {},
   "source": [
    "# LU Decomposition and System Solving Algorithm\n",
    "\n",
    "## LU Decomposition\n",
    "\n",
    "### Input\n",
    "- Square matrix $A$ of size $n \\times n$\n",
    "\n",
    "### Output\n",
    "- Lower triangular matrix $L$ with $L_{ii} = 1$\n",
    "- Upper triangular matrix $U$\n",
    "\n",
    "### Steps\n",
    "\n",
    "1. **Initialization:**\n",
    "    - Initialize $L$ as the identity matrix of size $n \\times n$.\n",
    "    - Initialize $U$ as a zero matrix of the same size as $A$.\n",
    "\n",
    "2. **Decomposition:**\n",
    "    - For each column $k$ from 0 to $n-1$:\n",
    "        - Update the $k$-th row of $U$ to eliminate entries below the diagonal.\n",
    "        - Update the $k$-th column of $L$ to eliminate entries above the diagonal.\n",
    "        - Ensure $L_{ii} = 1$ by dividing the entries in the column by the pivot element $U[k, k]$.\n",
    "\n",
    "3. **Output:**\n",
    "    - Return the computed matrices $L$ and $U$.\n",
    "\n",
    "## Solving System of Equations\n",
    "\n",
    "### Input\n",
    "- Coefficient matrix $A$ of size $n \\times n$\n",
    "- Constant vector $b$ of size $n$\n",
    "\n",
    "### Output\n",
    "- Solution vector $x$\n",
    "\n",
    "### Steps\n",
    "\n",
    "1. **LU Decomposition:**\n",
    "    - Use the LU decomposition algorithm to compute matrices $L$ and $U$ from $A$.\n",
    "\n",
    "2. **Forward Substitution:**\n",
    "    - Solve the system $Ly = b$ for $y$ using forward substitution.\n",
    "\n",
    "3. **Backward Substitution:**\n",
    "    - Solve the system $Ux = y$ for $x$ using backward substitution.\n",
    "\n",
    "4. **Output:**\n",
    "    - Return the computed solution vector $x$.\n"
   ]
  },
  {
   "cell_type": "code",
   "execution_count": 1,
   "metadata": {},
   "outputs": [],
   "source": [
    "import numpy as np\n",
    "\n",
    "\n",
    "def lu_decomposition(A):\n",
    "    n = len(A)\n",
    "    L = np.eye(n)\n",
    "    U = np.zeros_like(A, dtype=float)\n",
    "\n",
    "    for k in range(n):\n",
    "        U[k, k:] = A[k, k:] - L[k, :k] @ U[:k, k:]\n",
    "        L[k+1:, k] = (A[k+1:, k] - L[k+1:, :k] @ U[:k, k]) / U[k, k]\n",
    "\n",
    "    return L, U\n",
    "\n",
    "\n",
    "def solve_system_with_lu_decomposition(A, b):\n",
    "    L, U = lu_decomposition(A)\n",
    "\n",
    "    # Forward Substitution (Ly = b)\n",
    "    y = np.linalg.solve(L, b)\n",
    "\n",
    "    # Backward Substitution (Ux = y)\n",
    "    x = np.linalg.solve(U, y)\n",
    "\n",
    "    return x"
   ]
  },
  {
   "cell_type": "code",
   "execution_count": 2,
   "metadata": {},
   "outputs": [
    {
     "name": "stdout",
     "output_type": "stream",
     "text": [
      "Solution: [ 2.  3. -1.]\n"
     ]
    }
   ],
   "source": [
    "# Example Usage\n",
    "A = np.array([[2, 1, -1],\n",
    "              [-3, -1, 2],\n",
    "              [-2, 1, 2]]).astype(np.float64)\n",
    "\n",
    "b = np.array([8, -11, -3]).astype(np.float64)\n",
    "\n",
    "solution = solve_system_with_lu_decomposition(A, b)\n",
    "print(\"Solution:\", solution)\n"
   ]
  }
 ],
 "metadata": {
  "kernelspec": {
   "display_name": "Python 3",
   "language": "python",
   "name": "python3"
  },
  "language_info": {
   "codemirror_mode": {
    "name": "ipython",
    "version": 3
   },
   "file_extension": ".py",
   "mimetype": "text/x-python",
   "name": "python",
   "nbconvert_exporter": "python",
   "pygments_lexer": "ipython3",
   "version": "3.6.8"
  },
  "orig_nbformat": 4
 },
 "nbformat": 4,
 "nbformat_minor": 2
}
