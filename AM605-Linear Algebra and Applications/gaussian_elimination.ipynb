{
 "cells": [
  {
   "cell_type": "markdown",
   "metadata": {},
   "source": [
    "## Algorithm: Gaussian Elimination with Partial Pivoting and Back Substitution\n",
    "\n",
    "**Input:**\n",
    "- Matrix $A$ of size $n*n$\n",
    "- Vector $b$ of size $n$\n",
    "\n",
    "**Output:**\n",
    "- Solution vector $x$\n",
    "\n",
    "**Steps:**\n",
    "\n",
    "1. **Augment Matrix:**\n",
    "   - Create an augmented matrix by combining matrix $A$ and vector $b$.\n",
    "\n",
    "2. **Gaussian Elimination with Partial Pivoting:**\n",
    "   - For each iteration $k$ from 0 to $n-1$:\n",
    "      - Find the pivot index by selecting the row with the maximum absolute value in the current column (from $k$ to $n-1$).\n",
    "      - Swap rows to move the pivot element to the current row.\n",
    "      - Eliminate entries below the pivot by subtracting a multiple of the pivot row from each subsequent row.\n",
    "\n",
    "3. **Back Substitution:**\n",
    "   - Initialize a solution vector $x$ of size $n$ with zeros.\n",
    "   - For each row $i$ from $n-1$ to 0 (backward):\n",
    "      - Calculate $x[i]$ using the formula:\n",
    "        $x[i] = \\frac{{\\text{{augmented\\_matrix}}[i, -1] - \\sum_{j=i+1}^{n} \\text{{augmented\\_matrix}}[i, j] \\cdot x[j]}}{{\\text{{augmented\\_matrix}}[i, i]}}$\n",
    "\n",
    "4. **Output:**\n",
    "   - The solution vector $x$ contains the values of the unknowns.\n"
   ]
  },
  {
   "cell_type": "code",
   "execution_count": 1,
   "metadata": {},
   "outputs": [],
   "source": [
    "import numpy as np\n",
    "\n",
    "\n",
    "def gaussian_elimination_pivot(A, b):\n",
    "    # Combine the matrix A and vector b into one augmented matrix\n",
    "    augmented_matrix = np.column_stack((A, b))\n",
    "\n",
    "    n = len(b)\n",
    "\n",
    "    for k in range(n):\n",
    "        # Partial pivoting: find the pivot (maximum element in the current column)\n",
    "        pivot_index = np.argmax(np.abs(augmented_matrix[k:, k])) + k\n",
    "\n",
    "        # Swap rows to move the pivot element to the current row\n",
    "        augmented_matrix[[k, pivot_index]] = augmented_matrix[[pivot_index, k]]\n",
    "\n",
    "        # Eliminate entries below the pivot\n",
    "        for i in range(k + 1, n):\n",
    "            factor = augmented_matrix[i, k] / augmented_matrix[k, k]\n",
    "            augmented_matrix[i, k:] -= factor * augmented_matrix[k, k:]\n",
    "\n",
    "    # Back substitution\n",
    "    x = np.zeros(n)\n",
    "    for i in range(n - 1, -1, -1):\n",
    "        x[i] = (augmented_matrix[i, -1] - np.dot(augmented_matrix[i,\n",
    "                i+1:n], x[i+1:])) / augmented_matrix[i, i]\n",
    "\n",
    "    return x"
   ]
  },
  {
   "cell_type": "code",
   "execution_count": 2,
   "metadata": {},
   "outputs": [
    {
     "name": "stdout",
     "output_type": "stream",
     "text": [
      "The augmented matrix is:- \n",
      "[[  2.   1.  -1.   8.]\n",
      " [ -3.  -1.   2. -11.]\n",
      " [ -2.   1.   2.  -3.]]\n",
      "--------------------------------------------------\n",
      "Solution: [ 2.  3. -1.]\n"
     ]
    }
   ],
   "source": [
    "# Example usage\n",
    "A = np.array([[2, 1, -1],\n",
    "              [-3, -1, 2],\n",
    "              [-2, 1, 2]]).astype(np.float64)\n",
    "\n",
    "b = np.array([8, -11, -3]).astype(np.float64)\n",
    "\n",
    "print(\"The augmented matrix is:- \")\n",
    "print(np.column_stack((A, b)))\n",
    "print(\"-\"*50)\n",
    "\n",
    "solution = gaussian_elimination_pivot(A, b)\n",
    "print(\"Solution:\", solution)\n"
   ]
  }
 ],
 "metadata": {
  "kernelspec": {
   "display_name": "Python 3",
   "language": "python",
   "name": "python3"
  },
  "language_info": {
   "codemirror_mode": {
    "name": "ipython",
    "version": 3
   },
   "file_extension": ".py",
   "mimetype": "text/x-python",
   "name": "python",
   "nbconvert_exporter": "python",
   "pygments_lexer": "ipython3",
   "version": "3.6.8"
  },
  "orig_nbformat": 4
 },
 "nbformat": 4,
 "nbformat_minor": 2
}
