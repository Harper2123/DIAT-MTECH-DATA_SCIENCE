{
 "cells": [
  {
   "cell_type": "markdown",
   "metadata": {},
   "source": [
    "# Gauss-Jordan Elimination Algorithm\n",
    "\n",
    "## Input\n",
    "- Coefficient matrix $A$ of size $n \\times n$\n",
    "- Constant vector $b$ of size $n$\n",
    "\n",
    "## Output\n",
    "- Solution vector $x$ of size $n$\n",
    "\n",
    "## Steps\n",
    "\n",
    "1. **Combine matrices:**\n",
    "   - Create an augmented matrix by combining the coefficient matrix $A$ and the constant vector $b$.\n",
    "\n",
    "   \\\n",
    "   $\\text{{augmented\\_matrix}} = \\left[ A \\, | \\, b \\right]$\n",
    "   \n",
    "\n",
    "2. **Partial Pivoting:**\n",
    "   - For each column $k$ from 0 to $n-1$:\n",
    "     - Find the pivot (maximum element in the current column) in the submatrix below and including row $k$.\n",
    "     - Swap rows to move the pivot element to the current row.\n",
    "\n",
    "3. **Gauss-Jordan Elimination:**\n",
    "   - For each row $k$ from 0 to $n-1$:\n",
    "     - Make the pivot element $A[k,k]$ equal to 1 by dividing the entire row by $A[k, k]$.\n",
    "     - Eliminate entries above and below the pivot by performing row operations.\n",
    "\n",
    "4. **Extract Solution:**\n",
    "   - The solution vector $x$ is the last column of the augmented matrix.\n",
    "\n",
    "   \\\n",
    "   $x = \\text{{augmented\\_matrix}}[:, -1]$\n",
    "   \n"
   ]
  },
  {
   "cell_type": "code",
   "execution_count": 1,
   "metadata": {},
   "outputs": [],
   "source": [
    "import numpy as np\n",
    "\n",
    "\n",
    "def gauss_jordan_elimination(A, b):\n",
    "    # Combine the matrix A and vector b into one augmented matrix\n",
    "    augmented_matrix = np.column_stack((A, b))\n",
    "\n",
    "    n = len(b)\n",
    "\n",
    "    for k in range(n):\n",
    "        # Partial pivoting: find the pivot (maximum element in the current column)\n",
    "        pivot_index = np.argmax(np.abs(augmented_matrix[k:, k])) + k\n",
    "\n",
    "        # Swap rows to move the pivot element to the current row\n",
    "        augmented_matrix[[k, pivot_index]] = augmented_matrix[[pivot_index, k]]\n",
    "\n",
    "        # Make the pivot element 1\n",
    "        augmented_matrix[k, :] /= augmented_matrix[k, k]\n",
    "\n",
    "        # Eliminate entries above and below the pivot\n",
    "        for i in range(n):\n",
    "            if i != k:\n",
    "                factor = augmented_matrix[i, k]\n",
    "                augmented_matrix[i, :] -= factor * augmented_matrix[k, :]\n",
    "\n",
    "    # Extract the solution\n",
    "    solution = augmented_matrix[:, -1]\n",
    "\n",
    "    return solution"
   ]
  },
  {
   "cell_type": "code",
   "execution_count": 2,
   "metadata": {},
   "outputs": [
    {
     "name": "stdout",
     "output_type": "stream",
     "text": [
      "The augmented matrix is:\n",
      "[[  2.   1.  -1.   8.]\n",
      " [ -3.  -1.   2. -11.]\n",
      " [ -2.   1.   2.  -3.]]\n",
      "--------------------------------------------------\n",
      "Solution: [ 2.  3. -1.]\n"
     ]
    }
   ],
   "source": [
    "# Example usage\n",
    "A = np.array([[2, 1, -1],\n",
    "              [-3, -1, 2],\n",
    "              [-2, 1, 2]]).astype(np.float64)\n",
    "\n",
    "b = np.array([8, -11, -3]).astype(np.float64)\n",
    "\n",
    "print(\"The augmented matrix is:\")\n",
    "print(np.column_stack((A, b)))\n",
    "print(\"-\" * 50)\n",
    "\n",
    "solution = gauss_jordan_elimination(A, b)\n",
    "print(\"Solution:\", solution)\n"
   ]
  }
 ],
 "metadata": {
  "kernelspec": {
   "display_name": "Python 3",
   "language": "python",
   "name": "python3"
  },
  "language_info": {
   "codemirror_mode": {
    "name": "ipython",
    "version": 3
   },
   "file_extension": ".py",
   "mimetype": "text/x-python",
   "name": "python",
   "nbconvert_exporter": "python",
   "pygments_lexer": "ipython3",
   "version": "3.6.8"
  },
  "orig_nbformat": 4
 },
 "nbformat": 4,
 "nbformat_minor": 2
}
