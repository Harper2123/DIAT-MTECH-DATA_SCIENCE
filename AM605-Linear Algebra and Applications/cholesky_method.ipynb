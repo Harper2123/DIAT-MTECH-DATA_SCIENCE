{
 "cells": [
  {
   "cell_type": "markdown",
   "metadata": {},
   "source": [
    "# Cholesky Decomposition and System Solving Algorithm\n",
    "\n",
    "## Cholesky Decomposition\n",
    "\n",
    "### Input\n",
    "- Symmetric positive definite matrix $A$ of size $n \\times n$\n",
    "\n",
    "### Output\n",
    "- Lower triangular matrix $L$ such that $A = LL^T$\n",
    "\n",
    "### Steps\n",
    "\n",
    "1. **Initialization:**\n",
    "    - Initialize a zero matrix $L$ of the same size as $A$.\n",
    "\n",
    "2. **Decomposition:**\n",
    "    - For each row $i$ from 0 to $n-1$:\n",
    "        - For each column $j$ from 0 to $i$:\n",
    "            - If $i = j$, compute $L_{ii}$ using $L_{ii}$ = $\\sqrt{A_{ii} - \\sum_{k=1}^{i-1} L_{ik}^2}$.\n",
    "            - If $i \\neq j$, compute $L_{ij}$ using $L_{ij} = \\frac{1}{L_{jj}} \\left(A_{ij} - \\sum_{k=1}^{j-1} L_{ik}L_{jk}\\right)$.\n",
    "\n",
    "3. **Output:**\n",
    "    - Return the computed lower triangular matrix $L$.\n",
    "\n",
    "## Solving System of Equations\n",
    "\n",
    "### Input\n",
    "- Symmetric positive definite matrix $A$ of size $n \\times n$\n",
    "- Constant vector $b$ of size $n$\n",
    "\n",
    "### Output\n",
    "- Solution vector $x$\n",
    "\n",
    "### Steps\n",
    "\n",
    "1. **Cholesky Decomposition:**\n",
    "    - Use the Cholesky decomposition algorithm to compute the lower triangular matrix $L$ from $A$.\n",
    "\n",
    "2. **Forward Substitution:**\n",
    "    - Solve the system $Ly = b$ for $y$ using forward substitution.\n",
    "\n",
    "3. **Backward Substitution:**\n",
    "    - Solve the system $L^T x = y$ for $x$ using backward substitution.\n",
    "\n",
    "4. **Output:**\n",
    "    - Return the computed solution vector $x$."
   ]
  },
  {
   "cell_type": "code",
   "execution_count": 1,
   "metadata": {},
   "outputs": [],
   "source": [
    "import numpy as np\n",
    "\n",
    "\n",
    "def cholesky_decomposition(A):\n",
    "    n = len(A)\n",
    "    L = np.zeros_like(A, dtype=float)\n",
    "\n",
    "    for i in range(n):\n",
    "        for j in range(i+1):\n",
    "            if i == j:\n",
    "                L[i, i] = np.sqrt(A[i, i] - np.sum(L[i, :i]**2))\n",
    "            else:\n",
    "                L[i, j] = (A[i, j] - np.sum(L[i, :i] * L[j, :i])) / L[j, j]\n",
    "\n",
    "    return L\n",
    "\n",
    "\n",
    "def solve_system_with_cholesky_decomposition(A, b):\n",
    "    L = cholesky_decomposition(A)\n",
    "\n",
    "    # Solve Ly = b using forward substitution\n",
    "    y = np.linalg.solve(L, b)\n",
    "\n",
    "    # Solve L^T x = y using backward substitution\n",
    "    x = np.linalg.solve(L.T, y)\n",
    "\n",
    "    return x"
   ]
  },
  {
   "cell_type": "code",
   "execution_count": 2,
   "metadata": {},
   "outputs": [
    {
     "name": "stdout",
     "output_type": "stream",
     "text": [
      "The augmented matrix is:-\n",
      "[[  4.  12. -16.   1.]\n",
      " [ 12.  37. -43.   2.]\n",
      " [-16. -43.  98.   3.]]\n",
      "--------------------------------------------------\n",
      "The solution is:- \n",
      "[28.58333333 -7.66666667  1.33333333]\n"
     ]
    }
   ],
   "source": [
    "# Example Usage\n",
    "A = np.array([[4, 12, -16],\n",
    "              [12, 37, -43],\n",
    "              [-16, -43, 98]]).astype(np.float64)\n",
    "\n",
    "b = np.array([1, 2, 3]).astype(np.float64)\n",
    "print(\"The augmented matrix is:-\")\n",
    "print(np.column_stack((A, b)))\n",
    "print(\"-\"*50)\n",
    "solution = solve_system_with_cholesky_decomposition(A, b)\n",
    "print(\"The solution is:- \")\n",
    "print(solution)\n"
   ]
  }
 ],
 "metadata": {
  "kernelspec": {
   "display_name": "Python 3",
   "language": "python",
   "name": "python3"
  },
  "language_info": {
   "codemirror_mode": {
    "name": "ipython",
    "version": 3
   },
   "file_extension": ".py",
   "mimetype": "text/x-python",
   "name": "python",
   "nbconvert_exporter": "python",
   "pygments_lexer": "ipython3",
   "version": "3.6.8"
  },
  "orig_nbformat": 4
 },
 "nbformat": 4,
 "nbformat_minor": 2
}
