{
 "cells": [
  {
   "cell_type": "markdown",
   "metadata": {},
   "source": [
    "# Singular Value Decomposition"
   ]
  },
  {
   "cell_type": "code",
   "execution_count": 11,
   "metadata": {},
   "outputs": [],
   "source": [
    "import numpy as np\n",
    "\n",
    "def svd(matrix):\n",
    "    # Compute U\n",
    "    AAT = np.dot(matrix, matrix.T)\n",
    "    eigenvalues_U, eigenvectors_U = np.linalg.eig(AAT)\n",
    "    normalized_eigenvectors_U = eigenvectors_U / np.linalg.norm(eigenvectors_U, axis=0)\n",
    "    U = normalized_eigenvectors_U\n",
    "\n",
    "    # Compute V\n",
    "    ATA = np.dot(matrix.T, matrix)\n",
    "    eigenvalues_V, eigenvectors_V = np.linalg.eig(ATA)\n",
    "    normalized_eigenvectors_V = eigenvectors_V / np.linalg.norm(eigenvectors_V, axis=0)\n",
    "    V = normalized_eigenvectors_V\n",
    "\n",
    "    # Compute S\n",
    "    eigenvalues_S = np.sqrt(np.abs(eigenvalues_U))\n",
    "    S = np.zeros_like(matrix)\n",
    "    np.fill_diagonal(S, eigenvalues_S)\n",
    "\n",
    "    return U.round(3), S.round(3), V.round(3)\n"
   ]
  },
  {
   "cell_type": "code",
   "execution_count": 12,
   "metadata": {},
   "outputs": [
    {
     "name": "stdout",
     "output_type": "stream",
     "text": [
      "U:\n",
      "[[1. 0.]\n",
      " [0. 1.]]\n",
      "**************************************************\n",
      "S:\n",
      "[[1.414 0.    0.    0.   ]\n",
      " [0.    1.414 0.    0.   ]]\n",
      "**************************************************\n",
      "V:\n",
      "[[ 0.707  0.707  0.     0.   ]\n",
      " [ 0.     0.    -0.707 -0.707]\n",
      " [ 0.707 -0.707  0.     0.   ]\n",
      " [ 0.     0.    -0.707  0.707]]\n"
     ]
    }
   ],
   "source": [
    "# Example usage\n",
    "A = np.array([[1., 0., 1., 0.], [0., 1., 0., 1.]])\n",
    "U, S, V = svd(A)\n",
    "\n",
    "print(\"U:\")\n",
    "print(U)\n",
    "print(\"*\"*50)\n",
    "print(\"S:\")\n",
    "print(S)\n",
    "print(\"*\"*50)\n",
    "print(\"V:\")\n",
    "print(V)\n"
   ]
  }
 ],
 "metadata": {
  "kernelspec": {
   "display_name": "Python 3",
   "language": "python",
   "name": "python3"
  },
  "language_info": {
   "codemirror_mode": {
    "name": "ipython",
    "version": 3
   },
   "file_extension": ".py",
   "mimetype": "text/x-python",
   "name": "python",
   "nbconvert_exporter": "python",
   "pygments_lexer": "ipython3",
   "version": "3.6.8"
  }
 },
 "nbformat": 4,
 "nbformat_minor": 2
}
