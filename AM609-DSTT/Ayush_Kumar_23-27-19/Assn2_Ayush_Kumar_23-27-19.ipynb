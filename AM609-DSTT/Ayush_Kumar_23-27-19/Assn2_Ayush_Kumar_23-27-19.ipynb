{
 "cells": [
  {
   "cell_type": "markdown",
   "id": "5f37474e",
   "metadata": {},
   "source": [
    "# DSTT Assignment 2"
   ]
  },
  {
   "cell_type": "markdown",
   "id": "39120002",
   "metadata": {},
   "source": [
    "## Q1"
   ]
  },
  {
   "cell_type": "markdown",
   "id": "9abf77e8",
   "metadata": {},
   "source": [
    "### a) Create a variable named var1 that stores an array of numbers from 0 to 30, inclusive. Print var1 and its shape. Hint : arange"
   ]
  },
  {
   "cell_type": "code",
   "execution_count": 1,
   "id": "e2ad4664",
   "metadata": {},
   "outputs": [
    {
     "name": "stdout",
     "output_type": "stream",
     "text": [
      "The shape of the array is (31,)\n",
      "[ 0  1  2  3  4  5  6  7  8  9 10 11 12 13 14 15 16 17 18 19 20 21 22 23\n",
      " 24 25 26 27 28 29 30]\n"
     ]
    }
   ],
   "source": [
    "#Importing numpy\n",
    "import numpy as np\n",
    "\n",
    "var1 = np.arange(0,31)\n",
    "\n",
    "print(f\"The shape of the array is {var1.shape}\")\n",
    "print(var1)"
   ]
  },
  {
   "cell_type": "markdown",
   "id": "c94c2f3b",
   "metadata": {},
   "source": [
    "### b) Change var2 to a validly-shaped two-dimensional matrix and store it in a new variable called var2. Print var2 and its shape. Hint: Use the reshape function"
   ]
  },
  {
   "cell_type": "code",
   "execution_count": 2,
   "id": "351850b3",
   "metadata": {},
   "outputs": [
    {
     "name": "stdout",
     "output_type": "stream",
     "text": [
      "The shape of var2 is (31, 1)\n",
      "[[ 0]\n",
      " [ 1]\n",
      " [ 2]\n",
      " [ 3]\n",
      " [ 4]\n",
      " [ 5]\n",
      " [ 6]\n",
      " [ 7]\n",
      " [ 8]\n",
      " [ 9]\n",
      " [10]\n",
      " [11]\n",
      " [12]\n",
      " [13]\n",
      " [14]\n",
      " [15]\n",
      " [16]\n",
      " [17]\n",
      " [18]\n",
      " [19]\n",
      " [20]\n",
      " [21]\n",
      " [22]\n",
      " [23]\n",
      " [24]\n",
      " [25]\n",
      " [26]\n",
      " [27]\n",
      " [28]\n",
      " [29]\n",
      " [30]]\n"
     ]
    }
   ],
   "source": [
    "var2 = var1.reshape(31,1)\n",
    "\n",
    "print(f\"The shape of var2 is {var2.shape}\")\n",
    "print(var2)"
   ]
  },
  {
   "cell_type": "markdown",
   "id": "9cef6f37",
   "metadata": {},
   "source": [
    "### c) Create a third variable, var3 that reshapes it into a valid three-dimensional shape. Print var3 and its shape."
   ]
  },
  {
   "cell_type": "code",
   "execution_count": 3,
   "id": "1459bf8e",
   "metadata": {},
   "outputs": [
    {
     "name": "stdout",
     "output_type": "stream",
     "text": [
      "The shape of var3 is (1, 31, 1)\n",
      "[[[ 0]\n",
      "  [ 1]\n",
      "  [ 2]\n",
      "  [ 3]\n",
      "  [ 4]\n",
      "  [ 5]\n",
      "  [ 6]\n",
      "  [ 7]\n",
      "  [ 8]\n",
      "  [ 9]\n",
      "  [10]\n",
      "  [11]\n",
      "  [12]\n",
      "  [13]\n",
      "  [14]\n",
      "  [15]\n",
      "  [16]\n",
      "  [17]\n",
      "  [18]\n",
      "  [19]\n",
      "  [20]\n",
      "  [21]\n",
      "  [22]\n",
      "  [23]\n",
      "  [24]\n",
      "  [25]\n",
      "  [26]\n",
      "  [27]\n",
      "  [28]\n",
      "  [29]\n",
      "  [30]]]\n"
     ]
    }
   ],
   "source": [
    "var3 = var1.reshape(1,31,1)\n",
    "\n",
    "print(f\"The shape of var3 is {var3.shape}\")\n",
    "print(var3)"
   ]
  },
  {
   "cell_type": "markdown",
   "id": "ddc980eb",
   "metadata": {},
   "source": [
    "### d) Use two-dimensional array indexing to set the first value in the second row of var2 to -1. Now look at var1 and var3. Did they change? Explain what’s going on. (Hint: does reshape return a view or a copy?)"
   ]
  },
  {
   "cell_type": "code",
   "execution_count": 4,
   "id": "0b6fbfb5",
   "metadata": {},
   "outputs": [
    {
     "name": "stdout",
     "output_type": "stream",
     "text": [
      "[ 0 -1  2  3  4  5  6  7  8  9 10 11 12 13 14 15 16 17 18 19 20 21 22 23\n",
      " 24 25 26 27 28 29 30]\n"
     ]
    }
   ],
   "source": [
    "var2[1,0] = -1\n",
    "\n",
    "print(var1)"
   ]
  },
  {
   "cell_type": "code",
   "execution_count": 5,
   "id": "a6d609b6",
   "metadata": {},
   "outputs": [
    {
     "name": "stdout",
     "output_type": "stream",
     "text": [
      "[[[ 0]\n",
      "  [-1]\n",
      "  [ 2]\n",
      "  [ 3]\n",
      "  [ 4]\n",
      "  [ 5]\n",
      "  [ 6]\n",
      "  [ 7]\n",
      "  [ 8]\n",
      "  [ 9]\n",
      "  [10]\n",
      "  [11]\n",
      "  [12]\n",
      "  [13]\n",
      "  [14]\n",
      "  [15]\n",
      "  [16]\n",
      "  [17]\n",
      "  [18]\n",
      "  [19]\n",
      "  [20]\n",
      "  [21]\n",
      "  [22]\n",
      "  [23]\n",
      "  [24]\n",
      "  [25]\n",
      "  [26]\n",
      "  [27]\n",
      "  [28]\n",
      "  [29]\n",
      "  [30]]]\n"
     ]
    }
   ],
   "source": [
    "print(var3)"
   ]
  },
  {
   "cell_type": "markdown",
   "id": "fd0c2760",
   "metadata": {},
   "source": [
    "### Answer:-\n",
    "\n",
    "As we can see that changing a value in var2, reflected the same in var1 and var3, at the respective position where the element would have been if reshaped to their shapes. The reason behind it is that the reshape function returns a view of the original numpy array, and thus any change in the view gets reflected in the original numpy array"
   ]
  },
  {
   "cell_type": "markdown",
   "id": "836ea41d",
   "metadata": {},
   "source": [
    "### e) Another thing that comes up a lot with array shapes is thinking about how to aggregate over specific dimensions. Figure out how the NumPy sum function works (and the axis argument in particular) and do the following:\n",
    "\n",
    "#### (i) Sum var3 over its second dimension and print the result.\n",
    "\n",
    "#### (ii) Sum var3 over its third dimension and print the result.\n",
    "\n",
    "#### (iii) Sum var3 over both its first and third dimensions and print the result."
   ]
  },
  {
   "cell_type": "code",
   "execution_count": 6,
   "id": "a935f2b1",
   "metadata": {},
   "outputs": [
    {
     "name": "stdout",
     "output_type": "stream",
     "text": [
      "The sum over second dimension is [[463]]\n",
      "The shape of the result is (1, 1)\n"
     ]
    }
   ],
   "source": [
    "# Solving (i)\n",
    "\n",
    "result_sec_dim = np.sum(var3, axis=1)\n",
    "print(f\"The sum over second dimension is {result_sec_dim}\")\n",
    "print(f\"The shape of the result is {result_sec_dim.shape}\")"
   ]
  },
  {
   "cell_type": "code",
   "execution_count": 7,
   "id": "95d04afd",
   "metadata": {},
   "outputs": [
    {
     "name": "stdout",
     "output_type": "stream",
     "text": [
      "The sum over third dimension is [[ 0 -1  2  3  4  5  6  7  8  9 10 11 12 13 14 15 16 17 18 19 20 21 22 23\n",
      "  24 25 26 27 28 29 30]]\n",
      "The shape of the result is (1, 31)\n"
     ]
    }
   ],
   "source": [
    "# Solving (ii)\n",
    "result_third_dim = np.sum(var3, axis=2)\n",
    "print(f\"The sum over third dimension is {result_third_dim}\")\n",
    "print(f\"The shape of the result is {result_third_dim.shape}\")"
   ]
  },
  {
   "cell_type": "code",
   "execution_count": 8,
   "id": "f78d753a",
   "metadata": {},
   "outputs": [
    {
     "name": "stdout",
     "output_type": "stream",
     "text": [
      "The sum over first and third dimensions is [ 0 -1  2  3  4  5  6  7  8  9 10 11 12 13 14 15 16 17 18 19 20 21 22 23\n",
      " 24 25 26 27 28 29 30]\n",
      "The shape of the result is (31,)\n"
     ]
    }
   ],
   "source": [
    "#Solving (iii)\n",
    "result_first_third_dim = np.sum(var3, axis=(0,2))\n",
    "print(f\"The sum over first and third dimensions is {result_first_third_dim}\")\n",
    "print(f\"The shape of the result is {result_first_third_dim.shape}\")"
   ]
  },
  {
   "cell_type": "markdown",
   "id": "50a33959",
   "metadata": {},
   "source": [
    "### f) Write code to do the following:\n",
    "\n",
    "#### (i) Slice out the second row of var2 and print it.\n",
    "#### (ii) Slice out the last column of var2 using the -1 notation and print it.\n",
    "#### (iii) Slice out the top right 2 × 2 submatrix of var2 and print it."
   ]
  },
  {
   "cell_type": "code",
   "execution_count": 9,
   "id": "14b6942e",
   "metadata": {},
   "outputs": [
    {
     "data": {
      "text/plain": [
       "array([[ 0,  1,  2,  3,  4,  5],\n",
       "       [ 6,  7,  8,  9, 10, 11],\n",
       "       [12, 13, 14, 15, 16, 17],\n",
       "       [18, 19, 20, 21, 22, 23],\n",
       "       [24, 25, 26, 27, 28, 29]])"
      ]
     },
     "execution_count": 9,
     "metadata": {},
     "output_type": "execute_result"
    }
   ],
   "source": [
    "# Changing var2 for the sake of this question\n",
    "var2 = np.arange(0,30)\n",
    "var2 = var2.reshape(5,6)\n",
    "var2"
   ]
  },
  {
   "cell_type": "code",
   "execution_count": 10,
   "id": "439dbbee",
   "metadata": {},
   "outputs": [
    {
     "name": "stdout",
     "output_type": "stream",
     "text": [
      "[ 6  7  8  9 10 11]\n"
     ]
    }
   ],
   "source": [
    "# Solving (i)\n",
    "print(var2[1,:])"
   ]
  },
  {
   "cell_type": "code",
   "execution_count": 11,
   "id": "8bdd9a4c",
   "metadata": {},
   "outputs": [
    {
     "name": "stdout",
     "output_type": "stream",
     "text": [
      "[ 5 11 17 23 29]\n"
     ]
    }
   ],
   "source": [
    "# Solving (ii)\n",
    "print(var2[:,-1])"
   ]
  },
  {
   "cell_type": "code",
   "execution_count": 12,
   "id": "a86755f6",
   "metadata": {},
   "outputs": [
    {
     "name": "stdout",
     "output_type": "stream",
     "text": [
      "[[ 4  5]\n",
      " [10 11]]\n"
     ]
    }
   ],
   "source": [
    "# Solving (iii)\n",
    "print(var2[:2,-2:])"
   ]
  },
  {
   "cell_type": "markdown",
   "id": "ec730e9d",
   "metadata": {},
   "source": [
    "## Q2"
   ]
  },
  {
   "cell_type": "markdown",
   "id": "263a55a3",
   "metadata": {},
   "source": [
    "### a) The most basic kind of broadcast is with a scalar, in which you can perform a binary operation (e.g., add, multiply, ...) on an array and a scalar, the effect is to perform that operation with the scalar for every element of the array. To try this out, create a vector 1, 2, . . . , 10 by adding 1 to the result of the arange function."
   ]
  },
  {
   "cell_type": "code",
   "execution_count": 13,
   "id": "30ad2c5a",
   "metadata": {},
   "outputs": [
    {
     "name": "stdout",
     "output_type": "stream",
     "text": [
      "[ 1  2  3  4  5  6  7  8  9 10]\n"
     ]
    }
   ],
   "source": [
    "vec = np.arange(10) + 1\n",
    "print(vec)"
   ]
  },
  {
   "cell_type": "markdown",
   "id": "ae1fbe9f",
   "metadata": {},
   "source": [
    "### b) Now, create a $10 × 10$ matrix $A$ in which $A_{ij}$ = $i + j$. You’ll be able to do this using the vector you just created, and adding it to a reshaped version of itself."
   ]
  },
  {
   "cell_type": "code",
   "execution_count": 14,
   "id": "072a7281",
   "metadata": {},
   "outputs": [
    {
     "name": "stdout",
     "output_type": "stream",
     "text": [
      "[[ 2  3  4  5  6  7  8  9 10 11]\n",
      " [ 3  4  5  6  7  8  9 10 11 12]\n",
      " [ 4  5  6  7  8  9 10 11 12 13]\n",
      " [ 5  6  7  8  9 10 11 12 13 14]\n",
      " [ 6  7  8  9 10 11 12 13 14 15]\n",
      " [ 7  8  9 10 11 12 13 14 15 16]\n",
      " [ 8  9 10 11 12 13 14 15 16 17]\n",
      " [ 9 10 11 12 13 14 15 16 17 18]\n",
      " [10 11 12 13 14 15 16 17 18 19]\n",
      " [11 12 13 14 15 16 17 18 19 20]]\n"
     ]
    }
   ],
   "source": [
    "vec_re = vec.reshape(10,1)\n",
    "A = vec + vec_re\n",
    "print(A)"
   ]
  },
  {
   "cell_type": "markdown",
   "id": "3cb25af7",
   "metadata": {},
   "source": [
    "### c) A very common use of broadcasting is to standardize data, i.e., to make it have zero mean and unit variance. First, create a fake “data set” with 50 examples,each with five dimensions.\n",
    "\n",
    "### d) You don’t worry too much about what this code is doing at this stage of the course, but for completeness: it imports the NumPy random number generation library, then generates a 50 × 5 matrix of standard normal random variates and exponentiates them. The effect of this is to have a pretend data set of 50 independent and identically-distributed vectors from a log-normal distribution."
   ]
  },
  {
   "cell_type": "code",
   "execution_count": 15,
   "id": "77bf5747",
   "metadata": {},
   "outputs": [
    {
     "name": "stdout",
     "output_type": "stream",
     "text": [
      "(50, 5)\n"
     ]
    },
    {
     "data": {
      "text/plain": [
       "array([[ 0.76726836,  0.14267619,  0.31653475,  1.52560434,  4.07994942],\n",
       "       [ 3.24053387,  2.17771929,  1.22511116,  1.12786237,  0.36549042],\n",
       "       [ 0.53703569,  0.58875977,  0.95937785,  0.35294559,  0.13192316],\n",
       "       [ 0.41884325,  0.69952951,  0.95240402,  0.26314588,  2.04734551],\n",
       "       [ 5.54113206,  0.08050558,  0.72832711,  3.42531903,  0.13944204],\n",
       "       [ 1.70502603,  7.62687777,  1.90357853,  2.814918  ,  0.96730987],\n",
       "       [ 0.73474338,  0.81456704,  2.37801248,  1.53880245,  1.59937522],\n",
       "       [ 1.87618104,  2.61967095,  2.5817018 ,  0.3066591 ,  1.46570737],\n",
       "       [ 9.74384876,  3.22486677,  1.10736831,  0.4920357 ,  0.79755044],\n",
       "       [ 0.13894374,  6.77670117, 11.32422703,  4.10287036,  0.55530855],\n",
       "       [ 0.24702907,  0.24355708,  0.54602647,  1.76825463,  2.27186317],\n",
       "       [ 1.00010161,  0.30851727,  0.64225767,  0.17047813,  0.4757128 ],\n",
       "       [ 3.29168982,  1.45595481,  1.58965922,  0.97578393,  0.58826478],\n",
       "       [ 0.7362895 ,  1.8370549 ,  0.27505705,  0.49642492,  0.56156898],\n",
       "       [ 0.51667523,  0.5945394 ,  1.99684614,  1.61666211,  0.3717553 ],\n",
       "       [ 0.4875797 ,  1.83291291,  0.56645745,  0.67282477,  0.49204991],\n",
       "       [ 1.88836656,  0.36266393,  0.65297231,  1.79861921,  0.09446694],\n",
       "       [ 1.95948866,  3.91259345,  0.09954727,  1.12166755,  0.42956383],\n",
       "       [ 3.00982814,  2.48473311,  1.29110877,  0.34766297,  1.60335374],\n",
       "       [ 1.46502494,  1.18959503,  0.29558837,  1.26448609,  2.41818921],\n",
       "       [ 0.89596268,  0.74115642,  2.23703649,  0.16029722,  1.31371023],\n",
       "       [ 1.32610144,  2.30535499,  0.33348746, 15.20949375,  1.43888853],\n",
       "       [14.57488697,  0.73139036,  0.1888546 ,  1.77410648,  1.56178085],\n",
       "       [ 0.75004773,  0.42125244,  0.60519102,  0.98020648,  0.17953422],\n",
       "       [ 1.37018736,  0.18610716,  0.23030313,  0.20111284,  1.15135371],\n",
       "       [ 1.44046979,  1.51665071,  0.37690952,  0.9890164 ,  1.7359358 ],\n",
       "       [ 0.57256055,  0.23326985,  0.89870048,  1.04287617,  3.79436585],\n",
       "       [11.59960733,  1.65879055,  1.22787251, 10.09321631,  3.48322198],\n",
       "       [ 1.66689049,  0.74958007,  1.4499206 ,  0.49602143,  0.39384038],\n",
       "       [ 5.46651075,  0.39714325,  2.31210165,  0.18422388,  1.5182607 ],\n",
       "       [ 0.74034163,  4.35773716,  3.41171565,  4.20326299,  0.60113541],\n",
       "       [ 1.53190401,  1.85232179,  0.52835743,  0.89045081,  0.83328431],\n",
       "       [ 0.62149211,  1.00159553,  9.55642187,  0.28306702,  0.52730131],\n",
       "       [ 0.48263143,  1.37293599,  0.21267751,  2.75727424,  0.61582814],\n",
       "       [ 0.50701589,  0.88892385,  0.24031307,  1.21338838,  2.14126734],\n",
       "       [ 0.45429586,  0.50727497,  1.38016113,  1.50701114,  4.27980249],\n",
       "       [ 0.99898295,  0.77981977,  0.80427394,  0.63265736,  2.05267405],\n",
       "       [ 3.00083493,  1.60194395, 10.04513888,  0.57506611,  2.39208675],\n",
       "       [ 1.81290993,  1.95310385,  6.00183255,  0.41991792,  1.76692882],\n",
       "       [ 0.48268484,  0.47051484,  0.35024077,  1.34481459,  2.18017282],\n",
       "       [ 0.49544397,  1.94505473,  6.42676661,  2.34910385,  0.15266564],\n",
       "       [ 1.84707592,  1.14995163,  0.29274823,  0.11762107,  1.23557554],\n",
       "       [ 0.43371038,  0.31746449,  5.23640221,  0.48908169,  0.83909777],\n",
       "       [ 1.03538263,  3.65775657,  0.17515784,  0.22504557, 11.45252518],\n",
       "       [ 0.38098313,  0.56855982,  0.45174652,  4.57895422,  0.48939376],\n",
       "       [ 0.32484866,  0.53651244,  0.97879201,  2.10528662,  1.61809384],\n",
       "       [ 0.30559426,  0.92723424,  1.29450761,  1.2244316 ,  1.61376879],\n",
       "       [ 1.94980118,  1.84211425,  5.8895356 ,  2.63304459,  0.92429763],\n",
       "       [ 0.24208772,  1.5107716 ,  3.41324771,  1.78564785,  0.30803811],\n",
       "       [ 0.82519861,  5.57377897,  0.24988294,  0.93601124,  8.24317795]])"
      ]
     },
     "execution_count": 15,
     "metadata": {},
     "output_type": "execute_result"
    }
   ],
   "source": [
    "import numpy.random as npr\n",
    "data = np.exp(npr.randn(50, 5))\n",
    "print(data.shape)\n",
    "data"
   ]
  },
  {
   "cell_type": "markdown",
   "id": "7f8b1c50",
   "metadata": {},
   "source": [
    "### e) Now, compute the mean and standard deviation of each column. This should result in two vectors of length 5. You’ll need to think a little bit about how to use the axis argument to mean and std. Store these vectors into variables and print both of them."
   ]
  },
  {
   "cell_type": "code",
   "execution_count": 16,
   "id": "4e0266b8",
   "metadata": {},
   "outputs": [
    {
     "name": "stdout",
     "output_type": "stream",
     "text": [
      "Mean of data along columns:- [1.94884149 1.61460124 1.96464923 1.75169474 1.64588397]\n",
      "Standard deviation of data along columns:- [2.8290913  1.62770684 2.61796922 2.52682143 1.98487804]\n"
     ]
    }
   ],
   "source": [
    "mean_dist = np.mean(data, axis=0)\n",
    "std_dist = np.std(data, axis=0)\n",
    "print(f\"Mean of data along columns:- {mean_dist}\")\n",
    "print(f\"Standard deviation of data along columns:- {std_dist}\")"
   ]
  },
  {
   "cell_type": "markdown",
   "id": "9e042dd7",
   "metadata": {},
   "source": [
    "### f) Now standardize the data matrix by:-\n",
    " 1) subtracting the mean off of each column\n",
    " 2) dividing each column by its standard deviation.\n",
    "\n",
    "### Do this via broadcasting, and store the result in a matrix called normalized. To verify that you successfully did it, compute the mean and standard deviation of the columns of normalized and print them out."
   ]
  },
  {
   "cell_type": "code",
   "execution_count": 17,
   "id": "1fcdccab",
   "metadata": {},
   "outputs": [
    {
     "name": "stdout",
     "output_type": "stream",
     "text": [
      "Mean of normalized data along columns:- [ 2.33146835e-17 -4.44089210e-17 -1.57651669e-16  2.18713936e-16\n",
      " -8.88178420e-18]\n",
      "Standard deviation of normalized data along columns:- [1. 1. 1. 1. 1.]\n"
     ]
    }
   ],
   "source": [
    "data_sub = data - mean_dist\n",
    "normalized = data_sub / std_dist\n",
    "\n",
    "normalized_mean_dist = np.mean(normalized, axis=0)\n",
    "normalized_std_dist = np.std(normalized, axis=0)\n",
    "\n",
    "print(f\"Mean of normalized data along columns:- {normalized_mean_dist}\")\n",
    "print(f\"Standard deviation of normalized data along columns:- {normalized_std_dist}\")\n"
   ]
  },
  {
   "cell_type": "markdown",
   "id": "51205992",
   "metadata": {},
   "source": [
    "We can clearly verify that the mean of normalized data along columns is tending to 0 as the values are in the order of $10^{-16}$ or less."
   ]
  },
  {
   "cell_type": "markdown",
   "id": "d8c0d43a",
   "metadata": {},
   "source": [
    "## Q3"
   ]
  },
  {
   "cell_type": "markdown",
   "id": "1823c18b",
   "metadata": {},
   "source": [
    "### a) A Vandermonde matrix is a matrix generated from a vector in which each column of the matrix is an integer power starting from zero. So, if I have a column vector $[x_{1}, x_{2}, . . . , x_{N}]^{T}$ , then the associated (square) Vandermonde matrix would be\n",
    "$V = $\n",
    "\\[\n",
    "\\begin{bmatrix}\n",
    "1 & x_1 & x_1^2 & \\ldots & x_1^{N-1} \\\\\n",
    "1 & x_2 & x_2^2 & \\ldots & x_2^{N-1} \\\\\n",
    "\\vdots & \\vdots & \\vdots & \\ddots & \\vdots \\\\\n",
    "1 & x_N & x_N^2 & \\ldots & x_N^{N-1}\n",
    "\\end{bmatrix}\n",
    "\\]\n",
    "\n",
    "### Use what you learned about broadcasting in the previous problem to write a function that will produce a Vandermonde matrix for a vector $[1, 2, . . . ,N]^{T}$ for any N. Do it without using a loop.\n",
    "\n",
    "### Use your function for N = 12, store it in variable named vander, and print the result."
   ]
  },
  {
   "cell_type": "code",
   "execution_count": 18,
   "id": "50938fbf",
   "metadata": {},
   "outputs": [],
   "source": [
    "def vandermonde(N):\n",
    "    vec = np.arange(N) + 1\n",
    "    vec_re = vec.reshape(N,1)\n",
    "\n",
    "    vander_matrix = vec_re.astype(np.int64) ** np.arange(N)\n",
    "\n",
    "    return vander_matrix"
   ]
  },
  {
   "cell_type": "code",
   "execution_count": 19,
   "id": "6ec9a8d4",
   "metadata": {},
   "outputs": [
    {
     "name": "stdout",
     "output_type": "stream",
     "text": [
      "[[           1            1            1            1            1\n",
      "             1            1            1            1            1\n",
      "             1            1]\n",
      " [           1            2            4            8           16\n",
      "            32           64          128          256          512\n",
      "          1024         2048]\n",
      " [           1            3            9           27           81\n",
      "           243          729         2187         6561        19683\n",
      "         59049       177147]\n",
      " [           1            4           16           64          256\n",
      "          1024         4096        16384        65536       262144\n",
      "       1048576      4194304]\n",
      " [           1            5           25          125          625\n",
      "          3125        15625        78125       390625      1953125\n",
      "       9765625     48828125]\n",
      " [           1            6           36          216         1296\n",
      "          7776        46656       279936      1679616     10077696\n",
      "      60466176    362797056]\n",
      " [           1            7           49          343         2401\n",
      "         16807       117649       823543      5764801     40353607\n",
      "     282475249   1977326743]\n",
      " [           1            8           64          512         4096\n",
      "         32768       262144      2097152     16777216    134217728\n",
      "    1073741824   8589934592]\n",
      " [           1            9           81          729         6561\n",
      "         59049       531441      4782969     43046721    387420489\n",
      "    3486784401  31381059609]\n",
      " [           1           10          100         1000        10000\n",
      "        100000      1000000     10000000    100000000   1000000000\n",
      "   10000000000 100000000000]\n",
      " [           1           11          121         1331        14641\n",
      "        161051      1771561     19487171    214358881   2357947691\n",
      "   25937424601 285311670611]\n",
      " [           1           12          144         1728        20736\n",
      "        248832      2985984     35831808    429981696   5159780352\n",
      "   61917364224 743008370688]]\n"
     ]
    }
   ],
   "source": [
    "vander = vandermonde(12)\n",
    "print(vander)"
   ]
  },
  {
   "cell_type": "markdown",
   "id": "cd300e7c",
   "metadata": {},
   "source": [
    "### b) Now, let’s make a pretend linear system problem with this matrix. Create a vector of all ones, of length 12 and call it x. Perform a matrix-vector multiplication of vander with the vector you just created and store that in a new vector and call it b. Print the vector b."
   ]
  },
  {
   "cell_type": "code",
   "execution_count": 20,
   "id": "4b0d7453",
   "metadata": {},
   "outputs": [
    {
     "name": "stdout",
     "output_type": "stream",
     "text": [
      "[1.20000000e+01 4.09500000e+03 2.65720000e+05 5.59240500e+06\n",
      " 6.10351560e+07 4.35356467e+08 2.30688120e+09 9.81706810e+09\n",
      " 3.53036921e+10 1.11111111e+11 3.13842838e+11 8.10554586e+11]\n"
     ]
    }
   ],
   "source": [
    "x = np.ones(12,dtype=np.float64)\n",
    "b = np.dot(vander,x)\n",
    "print(b)"
   ]
  },
  {
   "cell_type": "markdown",
   "id": "9279ac0e",
   "metadata": {},
   "source": [
    "### c) First, solve the linear system the naïve way, pretending like you don’t know x. Import numpy.linalg, invert V and multiply it by b. Print out your result. What should you get for your answer? If the answer is different than what you expected, write a sentence about that difference."
   ]
  },
  {
   "cell_type": "code",
   "execution_count": 21,
   "id": "6159e7ca",
   "metadata": {},
   "outputs": [
    {
     "name": "stdout",
     "output_type": "stream",
     "text": [
      "[-72.11914062  71.140625     5.5703125   -0.58203125   0.97460938\n",
      "   1.02441406   0.9979248    1.00009155   0.99999809   1.\n",
      "   1.           1.        ]\n"
     ]
    }
   ],
   "source": [
    "import numpy.linalg as nlg\n",
    "\n",
    "V = vander\n",
    "inv_V = nlg.inv(V)\n",
    "\n",
    "result = np.dot(inv_V, b)\n",
    "\n",
    "print(result)"
   ]
  },
  {
   "cell_type": "markdown",
   "id": "f935aad8",
   "metadata": {},
   "source": [
    "The actual answer should have been $x = [1,1,1,1,1,1,1,1,1,1,1,1]$\n",
    "\n",
    "Instead of that, we are getting some values which are no way closer to 1. The issue might have been while computing the inverse, as when we compute the pseudo inverse for this scenario, we are getting something close to $x$, which can be seen in the below block of code."
   ]
  },
  {
   "cell_type": "code",
   "execution_count": 22,
   "id": "796c7a5e",
   "metadata": {},
   "outputs": [
    {
     "name": "stdout",
     "output_type": "stream",
     "text": [
      "[0.99951172 1.00024414 1.00028229 0.99975586 1.         1.\n",
      " 0.99996948 1.00000763 0.99999857 1.00000006 1.         1.        ]\n"
     ]
    }
   ],
   "source": [
    "p_inv_V = nlg.pinv(V)\n",
    "\n",
    "result_pinv = np.dot(p_inv_V, b)\n",
    "\n",
    "print(result_pinv)"
   ]
  },
  {
   "cell_type": "markdown",
   "id": "9385c797",
   "metadata": {},
   "source": [
    "We can clearly see these values are really close to $x$"
   ]
  },
  {
   "cell_type": "markdown",
   "id": "ae855e4f",
   "metadata": {},
   "source": [
    "### d) Now, solve the same linear system using solve. Print out the result. Does it seem more or less in line with what you’d expect?"
   ]
  },
  {
   "cell_type": "code",
   "execution_count": 23,
   "id": "d786a51c",
   "metadata": {},
   "outputs": [
    {
     "name": "stdout",
     "output_type": "stream",
     "text": [
      "[1.07647578 0.77410766 1.27460353 0.81535555 1.07724566 0.97869803\n",
      " 1.00397927 0.99949356 1.00004324 0.99999763 1.00000008 1.        ]\n"
     ]
    }
   ],
   "source": [
    "result_using_solve = nlg.solve(V, b)\n",
    "print(result_using_solve)"
   ]
  },
  {
   "cell_type": "markdown",
   "id": "17647ec9",
   "metadata": {},
   "source": [
    "This seems more in line with what I expect as almost all values are quite closer to $x = [1,1,1,1,1,1,1,1,1,1,1,1]$"
   ]
  }
 ],
 "metadata": {
  "kernelspec": {
   "display_name": "Python 3",
   "language": "python",
   "name": "python3"
  },
  "language_info": {
   "codemirror_mode": {
    "name": "ipython",
    "version": 3
   },
   "file_extension": ".py",
   "mimetype": "text/x-python",
   "name": "python",
   "nbconvert_exporter": "python",
   "pygments_lexer": "ipython3",
   "version": "3.6.8"
  }
 },
 "nbformat": 4,
 "nbformat_minor": 5
}
