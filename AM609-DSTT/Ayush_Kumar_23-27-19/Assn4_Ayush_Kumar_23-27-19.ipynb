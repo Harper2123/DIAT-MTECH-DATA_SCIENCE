{
 "cells": [
  {
   "cell_type": "markdown",
   "metadata": {},
   "source": [
    "# Assignment 4"
   ]
  },
  {
   "cell_type": "markdown",
   "metadata": {},
   "source": [
    "### 1. Read the housingdata.csv file into pandas DataFrame and display first six rows of the DataFrame"
   ]
  },
  {
   "cell_type": "code",
   "execution_count": 1,
   "metadata": {},
   "outputs": [],
   "source": [
    "#Importing necessary libraries\n",
    "import pandas as pd\n",
    "import numpy as np"
   ]
  },
  {
   "cell_type": "code",
   "execution_count": 2,
   "metadata": {},
   "outputs": [
    {
     "name": "stdout",
     "output_type": "stream",
     "text": [
      "The first six rows of the Data Frame:-\n"
     ]
    },
    {
     "data": {
      "text/html": [
       "<div>\n",
       "<style scoped>\n",
       "    .dataframe tbody tr th:only-of-type {\n",
       "        vertical-align: middle;\n",
       "    }\n",
       "\n",
       "    .dataframe tbody tr th {\n",
       "        vertical-align: top;\n",
       "    }\n",
       "\n",
       "    .dataframe thead th {\n",
       "        text-align: right;\n",
       "    }\n",
       "</style>\n",
       "<table border=\"1\" class=\"dataframe\">\n",
       "  <thead>\n",
       "    <tr style=\"text-align: right;\">\n",
       "      <th></th>\n",
       "      <th>PID</th>\n",
       "      <th>STATE</th>\n",
       "      <th>PRICE</th>\n",
       "      <th>NUM_BEDROOMS</th>\n",
       "      <th>NUM_BATH</th>\n",
       "      <th>SQ_FT</th>\n",
       "    </tr>\n",
       "  </thead>\n",
       "  <tbody>\n",
       "    <tr>\n",
       "      <th>0</th>\n",
       "      <td>100001000.0</td>\n",
       "      <td>MP</td>\n",
       "      <td>321654</td>\n",
       "      <td>3</td>\n",
       "      <td>1</td>\n",
       "      <td>1000</td>\n",
       "    </tr>\n",
       "    <tr>\n",
       "      <th>1</th>\n",
       "      <td>100002000.0</td>\n",
       "      <td>MAHARASHTRA</td>\n",
       "      <td>21325</td>\n",
       "      <td>3</td>\n",
       "      <td>1.5</td>\n",
       "      <td>--</td>\n",
       "    </tr>\n",
       "    <tr>\n",
       "      <th>2</th>\n",
       "      <td>100003000.0</td>\n",
       "      <td>AP</td>\n",
       "      <td>2541654</td>\n",
       "      <td>NaN</td>\n",
       "      <td>1</td>\n",
       "      <td>850</td>\n",
       "    </tr>\n",
       "    <tr>\n",
       "      <th>3</th>\n",
       "      <td>100004000.0</td>\n",
       "      <td>TN</td>\n",
       "      <td>321321</td>\n",
       "      <td>1</td>\n",
       "      <td>NaN</td>\n",
       "      <td>700</td>\n",
       "    </tr>\n",
       "    <tr>\n",
       "      <th>4</th>\n",
       "      <td>NaN</td>\n",
       "      <td>TN</td>\n",
       "      <td>589465645</td>\n",
       "      <td>3</td>\n",
       "      <td>2</td>\n",
       "      <td>1600</td>\n",
       "    </tr>\n",
       "    <tr>\n",
       "      <th>5</th>\n",
       "      <td>100006000.0</td>\n",
       "      <td>TN</td>\n",
       "      <td>65465466</td>\n",
       "      <td>NaN</td>\n",
       "      <td>1</td>\n",
       "      <td>800</td>\n",
       "    </tr>\n",
       "  </tbody>\n",
       "</table>\n",
       "</div>"
      ],
      "text/plain": [
       "           PID        STATE      PRICE NUM_BEDROOMS NUM_BATH SQ_FT\n",
       "0  100001000.0           MP     321654            3        1  1000\n",
       "1  100002000.0  MAHARASHTRA      21325            3      1.5    --\n",
       "2  100003000.0           AP    2541654          NaN        1   850\n",
       "3  100004000.0           TN     321321            1      NaN   700\n",
       "4          NaN           TN  589465645            3        2  1600\n",
       "5  100006000.0           TN   65465466          NaN        1   800"
      ]
     },
     "execution_count": 2,
     "metadata": {},
     "output_type": "execute_result"
    }
   ],
   "source": [
    "df = pd.read_csv('housingdata.csv')\n",
    "print(\"The first six rows of the Data Frame:-\")\n",
    "df.head(6)"
   ]
  },
  {
   "cell_type": "markdown",
   "metadata": {},
   "source": [
    "### 2. Display the column names and row index in separate cells"
   ]
  },
  {
   "cell_type": "code",
   "execution_count": 3,
   "metadata": {},
   "outputs": [
    {
     "name": "stdout",
     "output_type": "stream",
     "text": [
      "The column names are:-\n",
      "['PID', 'STATE', 'PRICE', 'NUM_BEDROOMS', 'NUM_BATH', 'SQ_FT']\n"
     ]
    }
   ],
   "source": [
    "#Displaying the column names\n",
    "print(\"The column names are:-\")\n",
    "print(list(df.columns))"
   ]
  },
  {
   "cell_type": "code",
   "execution_count": 4,
   "metadata": {},
   "outputs": [
    {
     "name": "stdout",
     "output_type": "stream",
     "text": [
      "The row index is:-\n",
      "[0, 1, 2, 3, 4, 5, 6, 7, 8]\n"
     ]
    }
   ],
   "source": [
    "#Displaying the row index\n",
    "print(\"The row index is:-\")\n",
    "print(list(df.index))"
   ]
  },
  {
   "cell_type": "markdown",
   "metadata": {},
   "source": [
    "### 3.\n",
    "#### a. How many numbers of “STATE” exist in the dataset."
   ]
  },
  {
   "cell_type": "code",
   "execution_count": 5,
   "metadata": {},
   "outputs": [
    {
     "name": "stdout",
     "output_type": "stream",
     "text": [
      "There are 9 numbers of STATE in the dataset\n"
     ]
    }
   ],
   "source": [
    "## Counting numbers of 'STATE' in the dataset\n",
    "print(f\"There are {df.shape[0]} numbers of STATE in the dataset\")"
   ]
  },
  {
   "cell_type": "markdown",
   "metadata": {},
   "source": [
    "#### b. How many unique states exist in the dataset."
   ]
  },
  {
   "cell_type": "code",
   "execution_count": 6,
   "metadata": {},
   "outputs": [
    {
     "name": "stdout",
     "output_type": "stream",
     "text": [
      "There are 6 unique states in the dataset.\n"
     ]
    }
   ],
   "source": [
    "print(f\"There are {df['STATE'].nunique()} unique states in the dataset.\")"
   ]
  },
  {
   "cell_type": "markdown",
   "metadata": {},
   "source": [
    "### 4. Retrieve the list of all NaN/Null/Empty cells in the form of Boolean list."
   ]
  },
  {
   "cell_type": "code",
   "execution_count": 7,
   "metadata": {},
   "outputs": [
    {
     "name": "stdout",
     "output_type": "stream",
     "text": [
      "[False, False, False, False, False, False, False, False, False, False, False, False, False, False, False, True, False, False, False, False, False, False, True, False, True, False, False, False, False, False, False, False, False, True, False, False, False, False, False, False, False, False, False, False, False, False, False, True, False, False, False, False, False, False]\n"
     ]
    }
   ],
   "source": [
    "# Getting the required values\n",
    "nan_bool_df = df.isna()\n",
    "# Getting a boolean list\n",
    "nan_bool_list = nan_bool_df.values.flatten().tolist()\n",
    "#Displaying the boolean list\n",
    "print(nan_bool_list)"
   ]
  },
  {
   "cell_type": "markdown",
   "metadata": {},
   "source": [
    "### 5. Drop all rows with N/A,NA,na values in Num_Bedrooms."
   ]
  },
  {
   "cell_type": "code",
   "execution_count": 8,
   "metadata": {},
   "outputs": [
    {
     "data": {
      "text/html": [
       "<div>\n",
       "<style scoped>\n",
       "    .dataframe tbody tr th:only-of-type {\n",
       "        vertical-align: middle;\n",
       "    }\n",
       "\n",
       "    .dataframe tbody tr th {\n",
       "        vertical-align: top;\n",
       "    }\n",
       "\n",
       "    .dataframe thead th {\n",
       "        text-align: right;\n",
       "    }\n",
       "</style>\n",
       "<table border=\"1\" class=\"dataframe\">\n",
       "  <thead>\n",
       "    <tr style=\"text-align: right;\">\n",
       "      <th></th>\n",
       "      <th>PID</th>\n",
       "      <th>STATE</th>\n",
       "      <th>PRICE</th>\n",
       "      <th>NUM_BEDROOMS</th>\n",
       "      <th>NUM_BATH</th>\n",
       "      <th>SQ_FT</th>\n",
       "    </tr>\n",
       "  </thead>\n",
       "  <tbody>\n",
       "    <tr>\n",
       "      <th>0</th>\n",
       "      <td>100001000.0</td>\n",
       "      <td>MP</td>\n",
       "      <td>321654</td>\n",
       "      <td>3</td>\n",
       "      <td>1</td>\n",
       "      <td>1000</td>\n",
       "    </tr>\n",
       "    <tr>\n",
       "      <th>1</th>\n",
       "      <td>100002000.0</td>\n",
       "      <td>MAHARASHTRA</td>\n",
       "      <td>21325</td>\n",
       "      <td>3</td>\n",
       "      <td>1.5</td>\n",
       "      <td>--</td>\n",
       "    </tr>\n",
       "    <tr>\n",
       "      <th>3</th>\n",
       "      <td>100004000.0</td>\n",
       "      <td>TN</td>\n",
       "      <td>321321</td>\n",
       "      <td>1</td>\n",
       "      <td>NaN</td>\n",
       "      <td>700</td>\n",
       "    </tr>\n",
       "    <tr>\n",
       "      <th>4</th>\n",
       "      <td>NaN</td>\n",
       "      <td>TN</td>\n",
       "      <td>589465645</td>\n",
       "      <td>3</td>\n",
       "      <td>2</td>\n",
       "      <td>1600</td>\n",
       "    </tr>\n",
       "    <tr>\n",
       "      <th>6</th>\n",
       "      <td>100007000.0</td>\n",
       "      <td>ASSAM</td>\n",
       "      <td>3222321</td>\n",
       "      <td>2</td>\n",
       "      <td>HURLEY</td>\n",
       "      <td>950</td>\n",
       "    </tr>\n",
       "    <tr>\n",
       "      <th>7</th>\n",
       "      <td>100008000.0</td>\n",
       "      <td>HP</td>\n",
       "      <td>23131</td>\n",
       "      <td>1</td>\n",
       "      <td>1</td>\n",
       "      <td>NaN</td>\n",
       "    </tr>\n",
       "  </tbody>\n",
       "</table>\n",
       "</div>"
      ],
      "text/plain": [
       "           PID        STATE      PRICE NUM_BEDROOMS NUM_BATH SQ_FT\n",
       "0  100001000.0           MP     321654            3        1  1000\n",
       "1  100002000.0  MAHARASHTRA      21325            3      1.5    --\n",
       "3  100004000.0           TN     321321            1      NaN   700\n",
       "4          NaN           TN  589465645            3        2  1600\n",
       "6  100007000.0        ASSAM    3222321            2   HURLEY   950\n",
       "7  100008000.0           HP      23131            1        1   NaN"
      ]
     },
     "execution_count": 8,
     "metadata": {},
     "output_type": "execute_result"
    }
   ],
   "source": [
    "#Replacing na with NaN\n",
    "df['NUM_BEDROOMS'] = df['NUM_BEDROOMS'].replace('na', np.nan)\n",
    "\n",
    "#Dropping the rows with NaN values in NUM_BEDROOMS column\n",
    "df = df.dropna(subset=['NUM_BEDROOMS'])\n",
    "\n",
    "#Displaying the Dataframe\n",
    "df"
   ]
  },
  {
   "cell_type": "markdown",
   "metadata": {},
   "source": [
    "### 6. Replace the NaN and String entries in Num_Bath with previous entry."
   ]
  },
  {
   "cell_type": "code",
   "execution_count": 9,
   "metadata": {},
   "outputs": [
    {
     "data": {
      "text/html": [
       "<div>\n",
       "<style scoped>\n",
       "    .dataframe tbody tr th:only-of-type {\n",
       "        vertical-align: middle;\n",
       "    }\n",
       "\n",
       "    .dataframe tbody tr th {\n",
       "        vertical-align: top;\n",
       "    }\n",
       "\n",
       "    .dataframe thead th {\n",
       "        text-align: right;\n",
       "    }\n",
       "</style>\n",
       "<table border=\"1\" class=\"dataframe\">\n",
       "  <thead>\n",
       "    <tr style=\"text-align: right;\">\n",
       "      <th></th>\n",
       "      <th>PID</th>\n",
       "      <th>STATE</th>\n",
       "      <th>PRICE</th>\n",
       "      <th>NUM_BEDROOMS</th>\n",
       "      <th>NUM_BATH</th>\n",
       "      <th>SQ_FT</th>\n",
       "    </tr>\n",
       "  </thead>\n",
       "  <tbody>\n",
       "    <tr>\n",
       "      <th>0</th>\n",
       "      <td>100001000.0</td>\n",
       "      <td>MP</td>\n",
       "      <td>321654</td>\n",
       "      <td>3</td>\n",
       "      <td>1.0</td>\n",
       "      <td>1000</td>\n",
       "    </tr>\n",
       "    <tr>\n",
       "      <th>1</th>\n",
       "      <td>100002000.0</td>\n",
       "      <td>MAHARASHTRA</td>\n",
       "      <td>21325</td>\n",
       "      <td>3</td>\n",
       "      <td>1.5</td>\n",
       "      <td>--</td>\n",
       "    </tr>\n",
       "    <tr>\n",
       "      <th>3</th>\n",
       "      <td>100004000.0</td>\n",
       "      <td>TN</td>\n",
       "      <td>321321</td>\n",
       "      <td>1</td>\n",
       "      <td>1.5</td>\n",
       "      <td>700</td>\n",
       "    </tr>\n",
       "    <tr>\n",
       "      <th>4</th>\n",
       "      <td>NaN</td>\n",
       "      <td>TN</td>\n",
       "      <td>589465645</td>\n",
       "      <td>3</td>\n",
       "      <td>2.0</td>\n",
       "      <td>1600</td>\n",
       "    </tr>\n",
       "    <tr>\n",
       "      <th>6</th>\n",
       "      <td>100007000.0</td>\n",
       "      <td>ASSAM</td>\n",
       "      <td>3222321</td>\n",
       "      <td>2</td>\n",
       "      <td>2.0</td>\n",
       "      <td>950</td>\n",
       "    </tr>\n",
       "    <tr>\n",
       "      <th>7</th>\n",
       "      <td>100008000.0</td>\n",
       "      <td>HP</td>\n",
       "      <td>23131</td>\n",
       "      <td>1</td>\n",
       "      <td>1.0</td>\n",
       "      <td>NaN</td>\n",
       "    </tr>\n",
       "  </tbody>\n",
       "</table>\n",
       "</div>"
      ],
      "text/plain": [
       "           PID        STATE      PRICE NUM_BEDROOMS  NUM_BATH SQ_FT\n",
       "0  100001000.0           MP     321654            3       1.0  1000\n",
       "1  100002000.0  MAHARASHTRA      21325            3       1.5    --\n",
       "3  100004000.0           TN     321321            1       1.5   700\n",
       "4          NaN           TN  589465645            3       2.0  1600\n",
       "6  100007000.0        ASSAM    3222321            2       2.0   950\n",
       "7  100008000.0           HP      23131            1       1.0   NaN"
      ]
     },
     "execution_count": 9,
     "metadata": {},
     "output_type": "execute_result"
    }
   ],
   "source": [
    "#Suppressing SettingWithCopy Warning\n",
    "pd.set_option('mode.chained_assignment', None)\n",
    "\n",
    "#Replacing non numeric entries with NaN\n",
    "df['NUM_BATH'] = pd.to_numeric(df['NUM_BATH'], errors='coerce')\n",
    "\n",
    "#Performing forward fill\n",
    "df['NUM_BATH'] = df['NUM_BATH'].fillna(method='ffill')\n",
    "\n",
    "#Displaying the Dataframe\n",
    "df"
   ]
  },
  {
   "cell_type": "markdown",
   "metadata": {},
   "source": [
    "### 7. Replace the empty values in “SQ_FT” with the mean of the all entries."
   ]
  },
  {
   "cell_type": "code",
   "execution_count": 10,
   "metadata": {},
   "outputs": [
    {
     "data": {
      "text/html": [
       "<div>\n",
       "<style scoped>\n",
       "    .dataframe tbody tr th:only-of-type {\n",
       "        vertical-align: middle;\n",
       "    }\n",
       "\n",
       "    .dataframe tbody tr th {\n",
       "        vertical-align: top;\n",
       "    }\n",
       "\n",
       "    .dataframe thead th {\n",
       "        text-align: right;\n",
       "    }\n",
       "</style>\n",
       "<table border=\"1\" class=\"dataframe\">\n",
       "  <thead>\n",
       "    <tr style=\"text-align: right;\">\n",
       "      <th></th>\n",
       "      <th>PID</th>\n",
       "      <th>STATE</th>\n",
       "      <th>PRICE</th>\n",
       "      <th>NUM_BEDROOMS</th>\n",
       "      <th>NUM_BATH</th>\n",
       "      <th>SQ_FT</th>\n",
       "    </tr>\n",
       "  </thead>\n",
       "  <tbody>\n",
       "    <tr>\n",
       "      <th>0</th>\n",
       "      <td>100001000.0</td>\n",
       "      <td>MP</td>\n",
       "      <td>321654</td>\n",
       "      <td>3</td>\n",
       "      <td>1.0</td>\n",
       "      <td>1000.0</td>\n",
       "    </tr>\n",
       "    <tr>\n",
       "      <th>1</th>\n",
       "      <td>100002000.0</td>\n",
       "      <td>MAHARASHTRA</td>\n",
       "      <td>21325</td>\n",
       "      <td>3</td>\n",
       "      <td>1.5</td>\n",
       "      <td>1062.5</td>\n",
       "    </tr>\n",
       "    <tr>\n",
       "      <th>3</th>\n",
       "      <td>100004000.0</td>\n",
       "      <td>TN</td>\n",
       "      <td>321321</td>\n",
       "      <td>1</td>\n",
       "      <td>1.5</td>\n",
       "      <td>700.0</td>\n",
       "    </tr>\n",
       "    <tr>\n",
       "      <th>4</th>\n",
       "      <td>NaN</td>\n",
       "      <td>TN</td>\n",
       "      <td>589465645</td>\n",
       "      <td>3</td>\n",
       "      <td>2.0</td>\n",
       "      <td>1600.0</td>\n",
       "    </tr>\n",
       "    <tr>\n",
       "      <th>6</th>\n",
       "      <td>100007000.0</td>\n",
       "      <td>ASSAM</td>\n",
       "      <td>3222321</td>\n",
       "      <td>2</td>\n",
       "      <td>2.0</td>\n",
       "      <td>950.0</td>\n",
       "    </tr>\n",
       "    <tr>\n",
       "      <th>7</th>\n",
       "      <td>100008000.0</td>\n",
       "      <td>HP</td>\n",
       "      <td>23131</td>\n",
       "      <td>1</td>\n",
       "      <td>1.0</td>\n",
       "      <td>1062.5</td>\n",
       "    </tr>\n",
       "  </tbody>\n",
       "</table>\n",
       "</div>"
      ],
      "text/plain": [
       "           PID        STATE      PRICE NUM_BEDROOMS  NUM_BATH   SQ_FT\n",
       "0  100001000.0           MP     321654            3       1.0  1000.0\n",
       "1  100002000.0  MAHARASHTRA      21325            3       1.5  1062.5\n",
       "3  100004000.0           TN     321321            1       1.5   700.0\n",
       "4          NaN           TN  589465645            3       2.0  1600.0\n",
       "6  100007000.0        ASSAM    3222321            2       2.0   950.0\n",
       "7  100008000.0           HP      23131            1       1.0  1062.5"
      ]
     },
     "execution_count": 10,
     "metadata": {},
     "output_type": "execute_result"
    }
   ],
   "source": [
    "#Replacing non numeric entries with NaN\n",
    "df['SQ_FT'] = pd.to_numeric(df['SQ_FT'], errors='coerce')\n",
    "\n",
    "#Filling null values with mean\n",
    "df['SQ_FT'] = df['SQ_FT'].fillna(df['SQ_FT'].mean())\n",
    "\n",
    "#Displaying the Dataframe\n",
    "df"
   ]
  },
  {
   "cell_type": "markdown",
   "metadata": {},
   "source": [
    "### 8. What is the sum of SQ_FT of all entries in the dataset?"
   ]
  },
  {
   "cell_type": "code",
   "execution_count": 11,
   "metadata": {},
   "outputs": [
    {
     "name": "stdout",
     "output_type": "stream",
     "text": [
      "The sum of the SQ_FT of all entries in the dataset is 6375.0 sq-ft.\n"
     ]
    }
   ],
   "source": [
    "print(f\"The sum of the SQ_FT of all entries in the dataset is {df['SQ_FT'].sum()} sq-ft.\")\n"
   ]
  },
  {
   "cell_type": "markdown",
   "metadata": {},
   "source": [
    "### 9. Add a new column “NUM_STORE” and with all the values as 1 for all rows."
   ]
  },
  {
   "cell_type": "code",
   "execution_count": 12,
   "metadata": {},
   "outputs": [
    {
     "data": {
      "text/html": [
       "<div>\n",
       "<style scoped>\n",
       "    .dataframe tbody tr th:only-of-type {\n",
       "        vertical-align: middle;\n",
       "    }\n",
       "\n",
       "    .dataframe tbody tr th {\n",
       "        vertical-align: top;\n",
       "    }\n",
       "\n",
       "    .dataframe thead th {\n",
       "        text-align: right;\n",
       "    }\n",
       "</style>\n",
       "<table border=\"1\" class=\"dataframe\">\n",
       "  <thead>\n",
       "    <tr style=\"text-align: right;\">\n",
       "      <th></th>\n",
       "      <th>PID</th>\n",
       "      <th>STATE</th>\n",
       "      <th>PRICE</th>\n",
       "      <th>NUM_BEDROOMS</th>\n",
       "      <th>NUM_BATH</th>\n",
       "      <th>SQ_FT</th>\n",
       "      <th>NUM_STORE</th>\n",
       "    </tr>\n",
       "  </thead>\n",
       "  <tbody>\n",
       "    <tr>\n",
       "      <th>0</th>\n",
       "      <td>100001000.0</td>\n",
       "      <td>MP</td>\n",
       "      <td>321654</td>\n",
       "      <td>3</td>\n",
       "      <td>1.0</td>\n",
       "      <td>1000.0</td>\n",
       "      <td>1</td>\n",
       "    </tr>\n",
       "    <tr>\n",
       "      <th>1</th>\n",
       "      <td>100002000.0</td>\n",
       "      <td>MAHARASHTRA</td>\n",
       "      <td>21325</td>\n",
       "      <td>3</td>\n",
       "      <td>1.5</td>\n",
       "      <td>1062.5</td>\n",
       "      <td>1</td>\n",
       "    </tr>\n",
       "    <tr>\n",
       "      <th>3</th>\n",
       "      <td>100004000.0</td>\n",
       "      <td>TN</td>\n",
       "      <td>321321</td>\n",
       "      <td>1</td>\n",
       "      <td>1.5</td>\n",
       "      <td>700.0</td>\n",
       "      <td>1</td>\n",
       "    </tr>\n",
       "    <tr>\n",
       "      <th>4</th>\n",
       "      <td>NaN</td>\n",
       "      <td>TN</td>\n",
       "      <td>589465645</td>\n",
       "      <td>3</td>\n",
       "      <td>2.0</td>\n",
       "      <td>1600.0</td>\n",
       "      <td>1</td>\n",
       "    </tr>\n",
       "    <tr>\n",
       "      <th>6</th>\n",
       "      <td>100007000.0</td>\n",
       "      <td>ASSAM</td>\n",
       "      <td>3222321</td>\n",
       "      <td>2</td>\n",
       "      <td>2.0</td>\n",
       "      <td>950.0</td>\n",
       "      <td>1</td>\n",
       "    </tr>\n",
       "    <tr>\n",
       "      <th>7</th>\n",
       "      <td>100008000.0</td>\n",
       "      <td>HP</td>\n",
       "      <td>23131</td>\n",
       "      <td>1</td>\n",
       "      <td>1.0</td>\n",
       "      <td>1062.5</td>\n",
       "      <td>1</td>\n",
       "    </tr>\n",
       "  </tbody>\n",
       "</table>\n",
       "</div>"
      ],
      "text/plain": [
       "           PID        STATE      PRICE NUM_BEDROOMS  NUM_BATH   SQ_FT  \\\n",
       "0  100001000.0           MP     321654            3       1.0  1000.0   \n",
       "1  100002000.0  MAHARASHTRA      21325            3       1.5  1062.5   \n",
       "3  100004000.0           TN     321321            1       1.5   700.0   \n",
       "4          NaN           TN  589465645            3       2.0  1600.0   \n",
       "6  100007000.0        ASSAM    3222321            2       2.0   950.0   \n",
       "7  100008000.0           HP      23131            1       1.0  1062.5   \n",
       "\n",
       "   NUM_STORE  \n",
       "0          1  \n",
       "1          1  \n",
       "3          1  \n",
       "4          1  \n",
       "6          1  \n",
       "7          1  "
      ]
     },
     "execution_count": 12,
     "metadata": {},
     "output_type": "execute_result"
    }
   ],
   "source": [
    "#Adding column NUM_STORE with values 1\n",
    "df['NUM_STORE'] = 1\n",
    "\n",
    "#Displaying the Dataframe\n",
    "df\n"
   ]
  },
  {
   "cell_type": "markdown",
   "metadata": {},
   "source": [
    "### 10. Create a DataFrame containing all entries of TN state only."
   ]
  },
  {
   "cell_type": "code",
   "execution_count": 13,
   "metadata": {},
   "outputs": [
    {
     "data": {
      "text/html": [
       "<div>\n",
       "<style scoped>\n",
       "    .dataframe tbody tr th:only-of-type {\n",
       "        vertical-align: middle;\n",
       "    }\n",
       "\n",
       "    .dataframe tbody tr th {\n",
       "        vertical-align: top;\n",
       "    }\n",
       "\n",
       "    .dataframe thead th {\n",
       "        text-align: right;\n",
       "    }\n",
       "</style>\n",
       "<table border=\"1\" class=\"dataframe\">\n",
       "  <thead>\n",
       "    <tr style=\"text-align: right;\">\n",
       "      <th></th>\n",
       "      <th>PID</th>\n",
       "      <th>STATE</th>\n",
       "      <th>PRICE</th>\n",
       "      <th>NUM_BEDROOMS</th>\n",
       "      <th>NUM_BATH</th>\n",
       "      <th>SQ_FT</th>\n",
       "      <th>NUM_STORE</th>\n",
       "    </tr>\n",
       "  </thead>\n",
       "  <tbody>\n",
       "    <tr>\n",
       "      <th>3</th>\n",
       "      <td>100004000.0</td>\n",
       "      <td>TN</td>\n",
       "      <td>321321</td>\n",
       "      <td>1</td>\n",
       "      <td>1.5</td>\n",
       "      <td>700.0</td>\n",
       "      <td>1</td>\n",
       "    </tr>\n",
       "    <tr>\n",
       "      <th>4</th>\n",
       "      <td>NaN</td>\n",
       "      <td>TN</td>\n",
       "      <td>589465645</td>\n",
       "      <td>3</td>\n",
       "      <td>2.0</td>\n",
       "      <td>1600.0</td>\n",
       "      <td>1</td>\n",
       "    </tr>\n",
       "  </tbody>\n",
       "</table>\n",
       "</div>"
      ],
      "text/plain": [
       "           PID STATE      PRICE NUM_BEDROOMS  NUM_BATH   SQ_FT  NUM_STORE\n",
       "3  100004000.0    TN     321321            1       1.5   700.0          1\n",
       "4          NaN    TN  589465645            3       2.0  1600.0          1"
      ]
     },
     "execution_count": 13,
     "metadata": {},
     "output_type": "execute_result"
    }
   ],
   "source": [
    "#Creating a mask\n",
    "tn_mask = df['STATE'] == 'TN'\n",
    "\n",
    "#Applying the mask to create a new Dataframe df_tn\n",
    "df_tn = df[tn_mask]\n",
    "\n",
    "#Displaying the Dataframe\n",
    "df_tn"
   ]
  },
  {
   "cell_type": "markdown",
   "metadata": {},
   "source": [
    "### 11. Create a DataFrame having SQ_FT area greater than 1000 and display the DataFrame."
   ]
  },
  {
   "cell_type": "code",
   "execution_count": 14,
   "metadata": {},
   "outputs": [
    {
     "data": {
      "text/html": [
       "<div>\n",
       "<style scoped>\n",
       "    .dataframe tbody tr th:only-of-type {\n",
       "        vertical-align: middle;\n",
       "    }\n",
       "\n",
       "    .dataframe tbody tr th {\n",
       "        vertical-align: top;\n",
       "    }\n",
       "\n",
       "    .dataframe thead th {\n",
       "        text-align: right;\n",
       "    }\n",
       "</style>\n",
       "<table border=\"1\" class=\"dataframe\">\n",
       "  <thead>\n",
       "    <tr style=\"text-align: right;\">\n",
       "      <th></th>\n",
       "      <th>PID</th>\n",
       "      <th>STATE</th>\n",
       "      <th>PRICE</th>\n",
       "      <th>NUM_BEDROOMS</th>\n",
       "      <th>NUM_BATH</th>\n",
       "      <th>SQ_FT</th>\n",
       "      <th>NUM_STORE</th>\n",
       "    </tr>\n",
       "  </thead>\n",
       "  <tbody>\n",
       "    <tr>\n",
       "      <th>1</th>\n",
       "      <td>100002000.0</td>\n",
       "      <td>MAHARASHTRA</td>\n",
       "      <td>21325</td>\n",
       "      <td>3</td>\n",
       "      <td>1.5</td>\n",
       "      <td>1062.5</td>\n",
       "      <td>1</td>\n",
       "    </tr>\n",
       "    <tr>\n",
       "      <th>4</th>\n",
       "      <td>NaN</td>\n",
       "      <td>TN</td>\n",
       "      <td>589465645</td>\n",
       "      <td>3</td>\n",
       "      <td>2.0</td>\n",
       "      <td>1600.0</td>\n",
       "      <td>1</td>\n",
       "    </tr>\n",
       "    <tr>\n",
       "      <th>7</th>\n",
       "      <td>100008000.0</td>\n",
       "      <td>HP</td>\n",
       "      <td>23131</td>\n",
       "      <td>1</td>\n",
       "      <td>1.0</td>\n",
       "      <td>1062.5</td>\n",
       "      <td>1</td>\n",
       "    </tr>\n",
       "  </tbody>\n",
       "</table>\n",
       "</div>"
      ],
      "text/plain": [
       "           PID        STATE      PRICE NUM_BEDROOMS  NUM_BATH   SQ_FT  \\\n",
       "1  100002000.0  MAHARASHTRA      21325            3       1.5  1062.5   \n",
       "4          NaN           TN  589465645            3       2.0  1600.0   \n",
       "7  100008000.0           HP      23131            1       1.0  1062.5   \n",
       "\n",
       "   NUM_STORE  \n",
       "1          1  \n",
       "4          1  \n",
       "7          1  "
      ]
     },
     "execution_count": 14,
     "metadata": {},
     "output_type": "execute_result"
    }
   ],
   "source": [
    "#Creating a mask\n",
    "sq_ft_mask = df['SQ_FT'] > 1000\n",
    "\n",
    "#Applying the mask to create a new Dataframe df_sq_ft\n",
    "df_sq_ft = df[sq_ft_mask]\n",
    "\n",
    "#Displaying the Dataframe\n",
    "df_sq_ft"
   ]
  },
  {
   "cell_type": "markdown",
   "metadata": {},
   "source": [
    "### 12. Create a DataFrame having only first Three columns and First Three rows."
   ]
  },
  {
   "cell_type": "code",
   "execution_count": 15,
   "metadata": {},
   "outputs": [
    {
     "data": {
      "text/html": [
       "<div>\n",
       "<style scoped>\n",
       "    .dataframe tbody tr th:only-of-type {\n",
       "        vertical-align: middle;\n",
       "    }\n",
       "\n",
       "    .dataframe tbody tr th {\n",
       "        vertical-align: top;\n",
       "    }\n",
       "\n",
       "    .dataframe thead th {\n",
       "        text-align: right;\n",
       "    }\n",
       "</style>\n",
       "<table border=\"1\" class=\"dataframe\">\n",
       "  <thead>\n",
       "    <tr style=\"text-align: right;\">\n",
       "      <th></th>\n",
       "      <th>PID</th>\n",
       "      <th>STATE</th>\n",
       "      <th>PRICE</th>\n",
       "    </tr>\n",
       "  </thead>\n",
       "  <tbody>\n",
       "    <tr>\n",
       "      <th>0</th>\n",
       "      <td>100001000.0</td>\n",
       "      <td>MP</td>\n",
       "      <td>321654</td>\n",
       "    </tr>\n",
       "    <tr>\n",
       "      <th>1</th>\n",
       "      <td>100002000.0</td>\n",
       "      <td>MAHARASHTRA</td>\n",
       "      <td>21325</td>\n",
       "    </tr>\n",
       "    <tr>\n",
       "      <th>3</th>\n",
       "      <td>100004000.0</td>\n",
       "      <td>TN</td>\n",
       "      <td>321321</td>\n",
       "    </tr>\n",
       "  </tbody>\n",
       "</table>\n",
       "</div>"
      ],
      "text/plain": [
       "           PID        STATE   PRICE\n",
       "0  100001000.0           MP  321654\n",
       "1  100002000.0  MAHARASHTRA   21325\n",
       "3  100004000.0           TN  321321"
      ]
     },
     "execution_count": 15,
     "metadata": {},
     "output_type": "execute_result"
    }
   ],
   "source": [
    "#Creating dataframe having only first three rows and three columns\n",
    "df_3_3 = df.iloc[:3, :3]\n",
    "\n",
    "#Displaying the Dataframe\n",
    "df_3_3\n"
   ]
  },
  {
   "cell_type": "markdown",
   "metadata": {},
   "source": [
    "### 13. Display the state having highest average price per square foot of housing area. Hint: Average of(TotalPrice/Sq_Ft)."
   ]
  },
  {
   "cell_type": "code",
   "execution_count": 16,
   "metadata": {},
   "outputs": [
    {
     "name": "stdout",
     "output_type": "stream",
     "text": [
      "The state having highest average price per square foot of housing area is TN.\n"
     ]
    }
   ],
   "source": [
    "#Calculating Total Price per Sq Ft\n",
    "df['PRICE_PER_SQ_FT'] = df['PRICE']/df['SQ_FT']\n",
    "\n",
    "#Finding Average of Price Per Sq-Ft grouped by STATE and sorting in descending order\n",
    "state_avg_price_per_sq_ft = df.groupby('STATE')['PRICE_PER_SQ_FT'].mean().sort_values(ascending=False)\n",
    "\n",
    "#Displaying the state having highest average price per square foot of housing area\n",
    "print(f\"The state having highest average price per square foot of housing area is {list(state_avg_price_per_sq_ft.index)[0]}.\")"
   ]
  }
 ],
 "metadata": {
  "kernelspec": {
   "display_name": "Python 3",
   "language": "python",
   "name": "python3"
  },
  "language_info": {
   "codemirror_mode": {
    "name": "ipython",
    "version": 3
   },
   "file_extension": ".py",
   "mimetype": "text/x-python",
   "name": "python",
   "nbconvert_exporter": "python",
   "pygments_lexer": "ipython3",
   "version": "3.6.8"
  }
 },
 "nbformat": 4,
 "nbformat_minor": 2
}
