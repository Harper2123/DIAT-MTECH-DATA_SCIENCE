{
 "cells": [
  {
   "cell_type": "markdown",
   "id": "443a305d-a0ec-43a9-b5d9-cacf014efe8a",
   "metadata": {},
   "source": [
    "# Assignment 1"
   ]
  },
  {
   "cell_type": "markdown",
   "id": "e7bb7f48-3a00-471e-aa68-39e1361a932c",
   "metadata": {},
   "source": [
    "## Q1) Given an array A of N numbers, WAP to print the multiplication of the elements of array A with the corresponding elements of the reverse of Array A.\n",
    "\n",
    "### Input format:-\n",
    "The first line contains a number N.\n",
    "The second line contains N numbers separated by space.\n",
    "\n",
    "### Output format:-\n",
    "print the resultant array of elements separated by a space."
   ]
  },
  {
   "cell_type": "code",
   "execution_count": 1,
   "id": "d0f4dd37-8541-4e60-bcb5-17a481f4afbb",
   "metadata": {},
   "outputs": [
    {
     "name": "stdout",
     "output_type": "stream",
     "text": [
      "3\n",
      "1 2 3\n",
      "3 4 3 "
     ]
    }
   ],
   "source": [
    "def rev_mul(N,A):\n",
    "    B = []\n",
    "    B = A[::-1]\n",
    "    \n",
    "    for i in range(N):\n",
    "        B[i] *= A[i]\n",
    "    \n",
    "    return B\n",
    "\n",
    "\n",
    "N = int(input())\n",
    "values = input()\n",
    "\n",
    "A = [int(i) for i in values.split(\" \")]\n",
    "\n",
    "result = rev_mul(N,A)\n",
    "\n",
    "for i in result:\n",
    "    print(i,end=\" \")\n"
   ]
  },
  {
   "cell_type": "markdown",
   "id": "6a96e457-b780-400a-a535-ab284db80914",
   "metadata": {},
   "source": [
    "## Q2) Given a list of numbers, find second maximum and second minimum in this list.\n",
    "\n",
    "### Input format:-\n",
    "The first line contains numbers separated by a space.\n",
    "\n",
    "### output format:-\n",
    "Print the second maximum and second minimum separated by space."
   ]
  },
  {
   "cell_type": "code",
   "execution_count": 2,
   "id": "888e423b-43fb-427e-a43e-37796af1d472",
   "metadata": {},
   "outputs": [
    {
     "name": "stdout",
     "output_type": "stream",
     "text": [
      "2 3 1 -1 2 0 -5 13 4\n",
      "4 -1 "
     ]
    }
   ],
   "source": [
    "def second_min_max(A):\n",
    "    for i in range(len(A)-1):\n",
    "        for j in range(i+1,len(A)):\n",
    "            if A[j] < A[i]:\n",
    "                A[i],A[j] = A[j],A[i]\n",
    "    second_max = A[len(A)-2]\n",
    "    second_min = A[1]\n",
    "    \n",
    "    return [second_max,second_min]\n",
    "\n",
    "\n",
    "values = input()\n",
    "A = [int(i) for i in values.split(\" \")]\n",
    "result = second_min_max(A)\n",
    "\n",
    "for i in result:\n",
    "    print(i,end=\" \")"
   ]
  },
  {
   "cell_type": "markdown",
   "id": "fb6d9f9e-cbaa-4558-a737-d0800ec315bd",
   "metadata": {},
   "source": [
    "## Q3) Given a list A of numbers, you have to print those numbers which are not multiples of 5.\n",
    "\n",
    "### Input format:-\n",
    "The first line contains the numbers of list A separated by a space.\n",
    "\n",
    "### Output format:-\n",
    "Print the numbers in a single line separated by a space which are not multiples of 5."
   ]
  },
  {
   "cell_type": "code",
   "execution_count": 3,
   "id": "c6354510-dbad-4cb5-9d58-9b2b5073a678",
   "metadata": {},
   "outputs": [
    {
     "name": "stdout",
     "output_type": "stream",
     "text": [
      "1 2 3 4 5 6 5\n",
      "1 2 3 4 6 "
     ]
    }
   ],
   "source": [
    "values = input()\n",
    "A = [int(i) for i in values.split(\" \")]\n",
    "result = [i for i in A if i % 5 != 0]\n",
    "\n",
    "for i in result:\n",
    "    print(i,end=\" \")"
   ]
  },
  {
   "cell_type": "markdown",
   "id": "a7b31601",
   "metadata": {},
   "source": [
    "## Q4) You are given a number A which contains only digits 0’s and 1’s. Your task is to make all digits same by just flipping one digit (i.e. 0 to 1 or 1 to 0 ) only. If it is possible to make all the digits same by just flipping one digit then print ’YES’ else print ’NO’.\n",
    "\n",
    "### Input Format:\n",
    "The first line contains a number made up of 0’s and 1’s.\n",
    "\n",
    "### Output Format:\n",
    "Print ’YES’ or ’NO’ accordingly without quotes."
   ]
  },
  {
   "cell_type": "code",
   "execution_count": 4,
   "id": "055f1466",
   "metadata": {},
   "outputs": [
    {
     "name": "stdout",
     "output_type": "stream",
     "text": [
      "111\n",
      "YES\n"
     ]
    }
   ],
   "source": [
    "# Assuming 111 returns YES\n",
    "\n",
    "def flipper(n):\n",
    "    count_ones = 0\n",
    "    count_zeros = 0\n",
    "    \n",
    "    for x in n:\n",
    "        if x == '1':\n",
    "            count_ones += 1\n",
    "        else:\n",
    "            count_zeros += 1\n",
    "    \n",
    "    if count_ones == 0 or count_zeros == 0:\n",
    "        return \"YES\"\n",
    "    elif count_ones < 2 or count_zeros < 2:\n",
    "        return \"YES\"\n",
    "    else:\n",
    "        return \"NO\"\n",
    "    \n",
    "\n",
    "n = input()\n",
    "result = flipper(n)\n",
    "print(result)"
   ]
  },
  {
   "cell_type": "code",
   "execution_count": 5,
   "id": "6b6facc2",
   "metadata": {},
   "outputs": [
    {
     "name": "stdout",
     "output_type": "stream",
     "text": [
      "111\n",
      "NO\n"
     ]
    }
   ],
   "source": [
    "# Assuming 111 returns NO\n",
    "\n",
    "def flipper(n):\n",
    "    count_ones = 0\n",
    "    count_zeros = 0\n",
    "    \n",
    "    for x in n:\n",
    "        if x == '1':\n",
    "            count_ones += 1\n",
    "        else:\n",
    "            count_zeros += 1\n",
    "    \n",
    "    if count_ones == 0 or count_zeros == 0:\n",
    "        return \"NO\"\n",
    "    elif count_ones < 2 or count_zeros < 2:\n",
    "        return \"YES\"\n",
    "    else:\n",
    "        return \"NO\"\n",
    "    \n",
    "\n",
    "n = input()\n",
    "result = flipper(n)\n",
    "print(result)"
   ]
  },
  {
   "cell_type": "markdown",
   "id": "b06bb43f",
   "metadata": {},
   "source": [
    "## Q5) Given an integer number n, you have to print the factorial of this number.\n",
    "\n",
    "### Input Format:\n",
    "A number n.\n",
    "\n",
    "### Output Format:\n",
    "Print the factorial of n."
   ]
  },
  {
   "cell_type": "code",
   "execution_count": 6,
   "id": "72e75e8b",
   "metadata": {},
   "outputs": [
    {
     "name": "stdout",
     "output_type": "stream",
     "text": [
      "4\n",
      "24\n"
     ]
    }
   ],
   "source": [
    "def fact(n):\n",
    "    if n < 0:\n",
    "        return -1\n",
    "    elif n <= 1:\n",
    "        return 1\n",
    "    else:\n",
    "        return n * fact(n-1)\n",
    "    \n",
    "    \n",
    "\n",
    "n = int(input())\n",
    "result = fact(n)\n",
    "print(result)"
   ]
  },
  {
   "cell_type": "markdown",
   "id": "318aa699",
   "metadata": {},
   "source": [
    "## Q6) Write a program, which will find all such numbers between m and n (both included) such that each digit of the number is an even number.\n",
    "\n",
    "### Input Format:\n",
    "The first line contains value m and n separated by a comma.\n",
    "\n",
    "### Output Format:\n",
    "The numbers obtained should be printed in a comma-separated sequence on a single line.\n",
    "\n",
    "#### Constraints:\n",
    "1000<=m<=9000\n",
    "\n",
    "1000<=n<=9000"
   ]
  },
  {
   "cell_type": "code",
   "execution_count": 8,
   "id": "c62d37bc",
   "metadata": {},
   "outputs": [
    {
     "name": "stdout",
     "output_type": "stream",
     "text": [
      "1000,4000\n",
      "2000,2002,2004,2006,2008,2020,2022,2024,2026,2028,2040,2042,2044,2046,2048,2060,2062,2064,2066,2068,2080,2082,2084,2086,2088,2200,2202,2204,2206,2208,2220,2222,2224,2226,2228,2240,2242,2244,2246,2248,2260,2262,2264,2266,2268,2280,2282,2284,2286,2288,2400,2402,2404,2406,2408,2420,2422,2424,2426,2428,2440,2442,2444,2446,2448,2460,2462,2464,2466,2468,2480,2482,2484,2486,2488,2600,2602,2604,2606,2608,2620,2622,2624,2626,2628,2640,2642,2644,2646,2648,2660,2662,2664,2666,2668,2680,2682,2684,2686,2688,2800,2802,2804,2806,2808,2820,2822,2824,2826,2828,2840,2842,2844,2846,2848,2860,2862,2864,2866,2868,2880,2882,2884,2886,2888,4000\n"
     ]
    }
   ],
   "source": [
    "def all_digits_even(num):\n",
    "    for digit in str(num):\n",
    "        if int(digit) % 2 != 0:\n",
    "            return False\n",
    "    return True\n",
    "\n",
    "def result_finder(m,n):\n",
    "    result = []\n",
    "    for num in range(m,n+1):\n",
    "        if all_digits_even(num):\n",
    "            result.append(str(num))\n",
    "    return result\n",
    "\n",
    "limits = input().split(\",\")\n",
    "m = int(limits[0])\n",
    "n = int(limits[1])\n",
    "even_digit_nums = result_finder(m,n)\n",
    "\n",
    "print(\",\".join(even_digit_nums))"
   ]
  },
  {
   "cell_type": "code",
   "execution_count": null,
   "id": "96d741cf",
   "metadata": {},
   "outputs": [],
   "source": []
  }
 ],
 "metadata": {
  "kernelspec": {
   "display_name": "Python 3",
   "language": "python",
   "name": "python3"
  },
  "language_info": {
   "codemirror_mode": {
    "name": "ipython",
    "version": 3
   },
   "file_extension": ".py",
   "mimetype": "text/x-python",
   "name": "python",
   "nbconvert_exporter": "python",
   "pygments_lexer": "ipython3",
   "version": "3.9.13"
  }
 },
 "nbformat": 4,
 "nbformat_minor": 5
}
