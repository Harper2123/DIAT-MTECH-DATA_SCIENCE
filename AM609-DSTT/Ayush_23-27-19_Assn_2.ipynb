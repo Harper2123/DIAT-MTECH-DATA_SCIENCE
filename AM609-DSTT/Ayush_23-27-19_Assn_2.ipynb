{
 "cells": [
  {
   "cell_type": "markdown",
   "id": "5f37474e",
   "metadata": {},
   "source": [
    "# DSTT Assignment 2"
   ]
  },
  {
   "cell_type": "markdown",
   "id": "39120002",
   "metadata": {},
   "source": [
    "## Q1"
   ]
  },
  {
   "cell_type": "markdown",
   "id": "9abf77e8",
   "metadata": {},
   "source": [
    "### a) Create a variable named var1 that stores an array of numbers from 0 to 30, inclusive. Print var1 and its shape. Hint : arange"
   ]
  },
  {
   "cell_type": "code",
   "execution_count": 1,
   "id": "e2ad4664",
   "metadata": {},
   "outputs": [
    {
     "name": "stdout",
     "output_type": "stream",
     "text": [
      "The shape of the array is (31,)\n",
      "[ 0  1  2  3  4  5  6  7  8  9 10 11 12 13 14 15 16 17 18 19 20 21 22 23\n",
      " 24 25 26 27 28 29 30]\n"
     ]
    }
   ],
   "source": [
    "#Importing numpy\n",
    "import numpy as np\n",
    "\n",
    "var1 = np.arange(0,31)\n",
    "\n",
    "print(f\"The shape of the array is {var1.shape}\")\n",
    "print(var1)"
   ]
  },
  {
   "cell_type": "markdown",
   "id": "c94c2f3b",
   "metadata": {},
   "source": [
    "### b) Change var2 to a validly-shaped two-dimensional matrix and store it in a new variable called var2. Print var2 and its shape. Hint: Use the reshape function"
   ]
  },
  {
   "cell_type": "code",
   "execution_count": 9,
   "id": "351850b3",
   "metadata": {},
   "outputs": [
    {
     "name": "stdout",
     "output_type": "stream",
     "text": [
      "The shape of var2 is (31, 1)\n",
      "[[ 0]\n",
      " [ 1]\n",
      " [ 2]\n",
      " [ 3]\n",
      " [ 4]\n",
      " [ 5]\n",
      " [ 6]\n",
      " [ 7]\n",
      " [ 8]\n",
      " [ 9]\n",
      " [10]\n",
      " [11]\n",
      " [12]\n",
      " [13]\n",
      " [14]\n",
      " [15]\n",
      " [16]\n",
      " [17]\n",
      " [18]\n",
      " [19]\n",
      " [20]\n",
      " [21]\n",
      " [22]\n",
      " [23]\n",
      " [24]\n",
      " [25]\n",
      " [26]\n",
      " [27]\n",
      " [28]\n",
      " [29]\n",
      " [30]]\n"
     ]
    }
   ],
   "source": [
    "var2 = var1.reshape(31,1)\n",
    "\n",
    "print(f\"The shape of var2 is {var2.shape}\")\n",
    "print(var2)"
   ]
  },
  {
   "cell_type": "markdown",
   "id": "9cef6f37",
   "metadata": {},
   "source": [
    "### c) Create a third variable, var3 that reshapes it into a valid three-dimensional shape. Print var3 and its shape."
   ]
  },
  {
   "cell_type": "code",
   "execution_count": 10,
   "id": "1459bf8e",
   "metadata": {},
   "outputs": [
    {
     "name": "stdout",
     "output_type": "stream",
     "text": [
      "The shape of var3 is (1, 31, 1)\n",
      "[[[ 0]\n",
      "  [ 1]\n",
      "  [ 2]\n",
      "  [ 3]\n",
      "  [ 4]\n",
      "  [ 5]\n",
      "  [ 6]\n",
      "  [ 7]\n",
      "  [ 8]\n",
      "  [ 9]\n",
      "  [10]\n",
      "  [11]\n",
      "  [12]\n",
      "  [13]\n",
      "  [14]\n",
      "  [15]\n",
      "  [16]\n",
      "  [17]\n",
      "  [18]\n",
      "  [19]\n",
      "  [20]\n",
      "  [21]\n",
      "  [22]\n",
      "  [23]\n",
      "  [24]\n",
      "  [25]\n",
      "  [26]\n",
      "  [27]\n",
      "  [28]\n",
      "  [29]\n",
      "  [30]]]\n"
     ]
    }
   ],
   "source": [
    "var3 = var1.reshape(1,31,1)\n",
    "\n",
    "print(f\"The shape of var3 is {var3.shape}\")\n",
    "print(var3)"
   ]
  },
  {
   "cell_type": "markdown",
   "id": "ddc980eb",
   "metadata": {},
   "source": [
    "### d) Use two-dimensional array indexing to set the first value in the second row of var2 to -1. Now look at var1 and var3. Did they change? Explain what’s going on. (Hint: does reshape return a view or a copy?)"
   ]
  },
  {
   "cell_type": "code",
   "execution_count": 12,
   "id": "0b6fbfb5",
   "metadata": {},
   "outputs": [
    {
     "name": "stdout",
     "output_type": "stream",
     "text": [
      "[ 0 -1  2  3  4  5  6  7  8  9 10 11 12 13 14 15 16 17 18 19 20 21 22 23\n",
      " 24 25 26 27 28 29 30]\n"
     ]
    }
   ],
   "source": [
    "var2[1,0] = -1\n",
    "\n",
    "print(var1)"
   ]
  },
  {
   "cell_type": "code",
   "execution_count": 13,
   "id": "a6d609b6",
   "metadata": {},
   "outputs": [
    {
     "name": "stdout",
     "output_type": "stream",
     "text": [
      "[[[ 0]\n",
      "  [-1]\n",
      "  [ 2]\n",
      "  [ 3]\n",
      "  [ 4]\n",
      "  [ 5]\n",
      "  [ 6]\n",
      "  [ 7]\n",
      "  [ 8]\n",
      "  [ 9]\n",
      "  [10]\n",
      "  [11]\n",
      "  [12]\n",
      "  [13]\n",
      "  [14]\n",
      "  [15]\n",
      "  [16]\n",
      "  [17]\n",
      "  [18]\n",
      "  [19]\n",
      "  [20]\n",
      "  [21]\n",
      "  [22]\n",
      "  [23]\n",
      "  [24]\n",
      "  [25]\n",
      "  [26]\n",
      "  [27]\n",
      "  [28]\n",
      "  [29]\n",
      "  [30]]]\n"
     ]
    }
   ],
   "source": [
    "print(var3)"
   ]
  },
  {
   "cell_type": "markdown",
   "id": "fd0c2760",
   "metadata": {},
   "source": [
    "### Answer:-\n",
    "\n",
    "As we can see that changing a value in var2, reflected the same in var1 and var3, at the respective position where the element would have been if reshaped to their shapes. The reason behind it is that the reshape function returns a view of the original numpy array, and thus any change in the view gets reflected in the original numpy array"
   ]
  },
  {
   "cell_type": "markdown",
   "id": "836ea41d",
   "metadata": {},
   "source": [
    "### e) Another thing that comes up a lot with array shapes is thinking about how to aggregate over specific dimensions. Figure out how the NumPy sum function works (and the axis argument in particular) and do the following:\n",
    "\n",
    "#### (i) Sum var3 over its second dimension and print the result.\n",
    "\n",
    "#### (ii) Sum var3 over its third dimension and print the result.\n",
    "\n",
    "#### (iii) Sum var3 over both its first and third dimensions and print the result."
   ]
  },
  {
   "cell_type": "code",
   "execution_count": 15,
   "id": "a935f2b1",
   "metadata": {},
   "outputs": [
    {
     "name": "stdout",
     "output_type": "stream",
     "text": [
      "The sum over second dimension is [[463]]\n",
      "The shape of the result is (1, 1)\n"
     ]
    }
   ],
   "source": [
    "# Solving (i)\n",
    "\n",
    "result_sec_dim = np.sum(var3, axis=1)\n",
    "print(f\"The sum over second dimension is {result_sec_dim}\")\n",
    "print(f\"The shape of the result is {result_sec_dim.shape}\")"
   ]
  },
  {
   "cell_type": "code",
   "execution_count": 16,
   "id": "95d04afd",
   "metadata": {},
   "outputs": [
    {
     "name": "stdout",
     "output_type": "stream",
     "text": [
      "The sum over third dimension is [[ 0 -1  2  3  4  5  6  7  8  9 10 11 12 13 14 15 16 17 18 19 20 21 22 23\n",
      "  24 25 26 27 28 29 30]]\n",
      "The shape of the result is (1, 31)\n"
     ]
    }
   ],
   "source": [
    "# Solving (ii)\n",
    "result_third_dim = np.sum(var3, axis=2)\n",
    "print(f\"The sum over third dimension is {result_third_dim}\")\n",
    "print(f\"The shape of the result is {result_third_dim.shape}\")"
   ]
  },
  {
   "cell_type": "code",
   "execution_count": 21,
   "id": "f78d753a",
   "metadata": {},
   "outputs": [
    {
     "name": "stdout",
     "output_type": "stream",
     "text": [
      "The sum over first and third dimensions is [[[ 0]\n",
      "  [-1]\n",
      "  [ 2]\n",
      "  [ 3]\n",
      "  [ 4]\n",
      "  [ 5]\n",
      "  [ 6]\n",
      "  [ 7]\n",
      "  [ 8]\n",
      "  [ 9]\n",
      "  [10]\n",
      "  [11]\n",
      "  [12]\n",
      "  [13]\n",
      "  [14]\n",
      "  [15]\n",
      "  [16]\n",
      "  [17]\n",
      "  [18]\n",
      "  [19]\n",
      "  [20]\n",
      "  [21]\n",
      "  [22]\n",
      "  [23]\n",
      "  [24]\n",
      "  [25]\n",
      "  [26]\n",
      "  [27]\n",
      "  [28]\n",
      "  [29]\n",
      "  [30]]]\n",
      "The shape of the result is (1, 31, 1)\n"
     ]
    }
   ],
   "source": [
    "#Solving (iii)\n",
    "result_first_third_dim = np.apply_over_axes(np.sum, var3, [0,2])\n",
    "print(f\"The sum over first and third dimensions is {result_first_third_dim}\")\n",
    "print(f\"The shape of the result is {result_first_third_dim.shape}\")"
   ]
  },
  {
   "cell_type": "markdown",
   "id": "50a33959",
   "metadata": {},
   "source": [
    "### f) Write code to do the following:\n",
    "\n",
    "#### (i) Slice out the second row of var2 and print it.\n",
    "#### (ii) Slice out the last column of var2 using the -1 notation and print it.\n",
    "#### (iii) Slice out the top right 2 × 2 submatrix of var2 and print it."
   ]
  },
  {
   "cell_type": "code",
   "execution_count": 25,
   "id": "14b6942e",
   "metadata": {},
   "outputs": [
    {
     "data": {
      "text/plain": [
       "array([[ 0,  1,  2,  3,  4,  5],\n",
       "       [ 6,  7,  8,  9, 10, 11],\n",
       "       [12, 13, 14, 15, 16, 17],\n",
       "       [18, 19, 20, 21, 22, 23],\n",
       "       [24, 25, 26, 27, 28, 29]])"
      ]
     },
     "execution_count": 25,
     "metadata": {},
     "output_type": "execute_result"
    }
   ],
   "source": [
    "# Changing var2 for the sake of this question\n",
    "var2 = np.arange(0,30)\n",
    "var2 = var2.reshape(5,6)\n",
    "var2"
   ]
  },
  {
   "cell_type": "code",
   "execution_count": 24,
   "id": "439dbbee",
   "metadata": {},
   "outputs": [
    {
     "name": "stdout",
     "output_type": "stream",
     "text": [
      "[ 6  7  8  9 10 11]\n"
     ]
    }
   ],
   "source": [
    "# Solving (i)\n",
    "print(var2[1,:])"
   ]
  },
  {
   "cell_type": "code",
   "execution_count": 26,
   "id": "8bdd9a4c",
   "metadata": {},
   "outputs": [
    {
     "name": "stdout",
     "output_type": "stream",
     "text": [
      "[ 5 11 17 23 29]\n"
     ]
    }
   ],
   "source": [
    "# Solving (ii)\n",
    "print(var2[:,-1])"
   ]
  },
  {
   "cell_type": "code",
   "execution_count": 27,
   "id": "a86755f6",
   "metadata": {},
   "outputs": [
    {
     "name": "stdout",
     "output_type": "stream",
     "text": [
      "[[ 4  5]\n",
      " [10 11]]\n"
     ]
    }
   ],
   "source": [
    "# Solving (iii)\n",
    "print(var2[:2,-2:])"
   ]
  },
  {
   "cell_type": "code",
   "execution_count": null,
   "id": "30ad2c5a",
   "metadata": {},
   "outputs": [],
   "source": []
  }
 ],
 "metadata": {
  "kernelspec": {
   "display_name": "Python 3",
   "language": "python",
   "name": "python3"
  },
  "language_info": {
   "codemirror_mode": {
    "name": "ipython",
    "version": 3
   },
   "file_extension": ".py",
   "mimetype": "text/x-python",
   "name": "python",
   "nbconvert_exporter": "python",
   "pygments_lexer": "ipython3",
   "version": "3.9.13"
  }
 },
 "nbformat": 4,
 "nbformat_minor": 5
}
