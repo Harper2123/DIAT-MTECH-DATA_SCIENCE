{
 "cells": [
  {
   "cell_type": "markdown",
   "metadata": {},
   "source": [
    "# Lab-1"
   ]
  },
  {
   "cell_type": "markdown",
   "metadata": {},
   "source": [
    "### Q1) Write a program in Python to input a number and print its factorial."
   ]
  },
  {
   "cell_type": "code",
   "execution_count": 1,
   "metadata": {},
   "outputs": [
    {
     "name": "stdout",
     "output_type": "stream",
     "text": [
      "You gave 5 as input\n",
      "Factorial of 5 is 120\n"
     ]
    }
   ],
   "source": [
    "n = int(input(\"Please enter the number:- \"))\n",
    "print(\"You gave\", n, \"as input\")\n",
    "\n",
    "n_fact = 1\n",
    "\n",
    "if n < 0:\n",
    "    print(\"Factorial of negative number is not possible\")\n",
    "elif n == 0:\n",
    "    print(\"Factorial of 0 is 1\")\n",
    "else:\n",
    "    for i in range(n, 1, -1):\n",
    "        n_fact *= i\n",
    "    print(\"Factorial of\", n, \"is\", n_fact)\n"
   ]
  },
  {
   "cell_type": "markdown",
   "metadata": {},
   "source": [
    "### Explanation\n",
    "\n",
    "- We first take an input from the user using input() method.\n",
    "- We then convert it to integer using int() method as input() returns a string object.\n",
    "- We store the integer in a variable named n\n",
    "- We then initialize a new variable named n_fact with a value of 1.\n",
    "- We take care of base cases using if and elif statements.\n",
    "- In the else codeblock, we run an iteration from i=n to i=1 with a step of -1.\n",
    "- In each loop:-\n",
    "    - We multiply the n_fact with i\n",
    "    - The variable i gets decremented by 1 because of the negative step.\n",
    "- We print the value of n_fact using print()"
   ]
  },
  {
   "cell_type": "markdown",
   "metadata": {},
   "source": [
    "### Q2) Write a program to get number of lines from user and print the following pattern (assuming user enters 5):-\n",
    "\n",
    "![](2023-08-27-14-06-57.png)"
   ]
  },
  {
   "cell_type": "code",
   "execution_count": 2,
   "metadata": {},
   "outputs": [
    {
     "name": "stdout",
     "output_type": "stream",
     "text": [
      "You gave 5 as input.\n",
      "Printing the Pattern\n",
      "----------------------------------------------------------------------------------------------------\n",
      "*****\n",
      "****\n",
      "***\n",
      "**\n",
      "*\n",
      "----------------------------------------------------------------------------------------------------\n",
      "The pattern was printed successfully\n"
     ]
    }
   ],
   "source": [
    "n = int(input(\"Enter the number\"))\n",
    "\n",
    "print(\"You gave\", n, \"as input.\")\n",
    "print(\"Printing the Pattern\")\n",
    "print(\"-\"*100)\n",
    "\n",
    "for i in range(n, 0, -1):\n",
    "    print(\"*\"*i)\n",
    "print(\"-\"*100)\n",
    "print(\"The pattern was printed successfully\")"
   ]
  },
  {
   "cell_type": "markdown",
   "metadata": {},
   "source": [
    "### Explanation\n",
    "\n",
    "- We first take an input from the user using input() method.\n",
    "- We then convert it to integer using int() method as input() returns a string object.\n",
    "- We store the integer in a variable named n\n",
    "- We then start a loop from i=n to i=0 with a step of -1.\n",
    "- In each loop:-\n",
    "    - We print the string \"*\" i times\n",
    "    - The variable i gets decremented by 1 in each iteration because of the negative step.\n",
    "- We then display the acknowledgement of task completed successfully."
   ]
  },
  {
   "cell_type": "markdown",
   "metadata": {},
   "source": [
    "### Q3) Write a program to get number of lines from user and print the following pattern (assuming user enters 5):-\n",
    "\n",
    "![](2023-08-27-14-18-01.png)"
   ]
  },
  {
   "cell_type": "code",
   "execution_count": 3,
   "metadata": {},
   "outputs": [
    {
     "name": "stdout",
     "output_type": "stream",
     "text": [
      "You gave 7 as input.\n",
      "Printing the Pattern\n",
      "----------------------------------------------------------------------------------------------------\n",
      "*******\n",
      " ***** \n",
      "  ***  \n",
      "   *   \n",
      "  ***  \n",
      " ***** \n",
      "*******\n",
      "----------------------------------------------------------------------------------------------------\n",
      "The pattern was printed successfully\n"
     ]
    }
   ],
   "source": [
    "n = int(input(\"Enter the number\"))\n",
    "\n",
    "print(\"You gave\", n, \"as input.\")\n",
    "print(\"Printing the Pattern\")\n",
    "print(\"-\"*100)\n",
    "\n",
    "for i in range(n, 0, -2):\n",
    "    print(\" \"*((n-i)//2) + \"*\"*i + \" \"*((n-i)//2))\n",
    "for i in range(3, n+1, 2):\n",
    "    print(\" \"*((n-i)//2) + \"*\"*i + \" \"*((n-i)//2))\n",
    "print(\"-\"*100)\n",
    "print(\"The pattern was printed successfully\")"
   ]
  },
  {
   "cell_type": "markdown",
   "metadata": {},
   "source": [
    "### Note:- The above code will work for any odd number.\n",
    "\n",
    "### Explanation\n",
    "- We first take an input from the user using input() method.\n",
    "- We then convert it to integer using int() method as input() returns a string object.\n",
    "- We store the integer in a variable named n\n",
    "- We then start a loop from i=n to i=0 with a step of -2.\n",
    "- In each loop:-\n",
    "    - We print the string \" \" ((n-i)//2) times followed by \"*\" i times and \" \" ((n-i)//2) times.\n",
    "    - The variable i gets decremented by 2 in each iteration because of the negative step.\n",
    "- We then start another loop from i=3 to i=n+1 with a step of 2.\n",
    "- In each loop:-\n",
    "    - We print the string \" \" ((n-i)//2) times followed by \"*\" i times and \" \" ((n-i)//2) times.\n",
    "    - The variable i gets incremented by 2 in each iteration because of the positive step.\n",
    "- We then display the acknowledgement of task completed successfully."
   ]
  },
  {
   "cell_type": "markdown",
   "metadata": {},
   "source": [
    "### Q4) Write a Program to find the maximum out of four numbers."
   ]
  },
  {
   "cell_type": "code",
   "execution_count": 4,
   "metadata": {},
   "outputs": [
    {
     "name": "stdout",
     "output_type": "stream",
     "text": [
      "You gave 10.0 3.0 6.0 15.0 as input.\n",
      "The maximum number is 15.0\n"
     ]
    }
   ],
   "source": [
    "a = float(input(\"Enter the first number:- \"))\n",
    "b = float(input(\"Enter the second number:- \"))\n",
    "c = float(input(\"Enter the third number:- \"))\n",
    "d = float(input(\"Enter the fourth number:- \"))\n",
    "\n",
    "print(\"You gave\", a, b, c, d, \"as input.\")\n",
    "\n",
    "max_num = a\n",
    "\n",
    "if b > max_num:\n",
    "    max_num = b\n",
    "if c > max_num:\n",
    "    max_num = c\n",
    "if d > max_num:\n",
    "    max_num = d\n",
    "\n",
    "print(\"The maximum number is\", max_num)"
   ]
  },
  {
   "cell_type": "markdown",
   "metadata": {},
   "source": [
    "### Explanation\n",
    "\n",
    "- We first store the four numbers in variables a, b, c, and d after converting the values to float.\n",
    "- We then initialize a new variable named max_num with a value of a.\n",
    "- We then check if b is greater than max_num. If yes, we assign b to max_num.\n",
    "- We then check if c is greater than max_num. If yes, we assign c to max_num.\n",
    "- We then check if d is greater than max_num. If yes, we assign d to max_num.\n",
    "- We then print the value of max_num using print() method."
   ]
  },
  {
   "cell_type": "markdown",
   "metadata": {},
   "source": [
    "### Q5) Write a program to get the domain name of the mail server from user given email address."
   ]
  },
  {
   "cell_type": "code",
   "execution_count": 5,
   "metadata": {},
   "outputs": [
    {
     "name": "stdout",
     "output_type": "stream",
     "text": [
      "You gave akcoolkmr@gmail.com as input.\n",
      "The domain name of the mail server is:-  gmail.com\n"
     ]
    }
   ],
   "source": [
    "user_mail = input(\"Enter the email address:- \")\n",
    "print(\"You gave\", user_mail, \"as input.\")\n",
    "\n",
    "idx = 0\n",
    "\n",
    "for i in range(len(user_mail)):\n",
    "    if user_mail[i] == \"@\":\n",
    "        idx = i\n",
    "        break\n",
    "print(\"The domain name of the mail server is:- \",user_mail[idx+1:])"
   ]
  },
  {
   "cell_type": "markdown",
   "metadata": {},
   "source": [
    "### Explanation\n",
    "\n",
    "- We first take an input from the user using input() method.\n",
    "- We then store the input in variable named user_mail.\n",
    "- We then initialize a variable idx=0\n",
    "- We then start a loop from i=0 to i=len(user_mail) with a step of 1.\n",
    "- In each loop:-\n",
    "    - We check if user_mail[i] is equal to \"@\".\n",
    "    - If yes, we assign idx=i and break out from the for loop.\n",
    "- We then print the string user_mail[idx+1:] using print() method.\n",
    "\n",
    "### Note:- This program assumes that a correct email address is provided.\n"
   ]
  },
  {
   "cell_type": "markdown",
   "metadata": {},
   "source": [
    "### Q6) Write a program that checks the validity/syntax of the email address entered."
   ]
  },
  {
   "cell_type": "code",
   "execution_count": 6,
   "metadata": {},
   "outputs": [
    {
     "name": "stdout",
     "output_type": "stream",
     "text": [
      "The email address is not valid.\n"
     ]
    }
   ],
   "source": [
    "def is_valid_email(email):\n",
    "    # Check for the presence of '@' and '.'\n",
    "    if '@' not in email or '.' not in email:\n",
    "        return False\n",
    "\n",
    "    # Find the position of '@' and the last '.'\n",
    "    at_index = -1\n",
    "    last_dot_index = -1\n",
    "    for i in range(len(email)):\n",
    "        if email[i] == '@':\n",
    "            at_index = i\n",
    "        elif email[i] == '.':\n",
    "            last_dot_index = i\n",
    "\n",
    "    # Check if '@' comes before the last '.'\n",
    "    if at_index >= last_dot_index:\n",
    "        return False\n",
    "\n",
    "    # Check if '.' is present after '@'\n",
    "    if at_index == -1 or last_dot_index == -1:\n",
    "        return False\n",
    "\n",
    "    # Check for at least one character before '@' and after the last '.'\n",
    "    if at_index == 0 or last_dot_index == len(email) - 1:\n",
    "        return False\n",
    "\n",
    "    return True\n",
    "\n",
    "\n",
    "email_address = input(\"Enter an email address: \")\n",
    "\n",
    "if is_valid_email(email_address):\n",
    "    print(\"The email address is valid.\")\n",
    "else:\n",
    "    print(\"The email address is not valid.\")\n"
   ]
  },
  {
   "cell_type": "markdown",
   "metadata": {},
   "source": [
    "### Explanation\n",
    "\n",
    "- We first define a method named is_valid_email() which takes email(string) as argument.\n",
    "- We then check for different conditions regarding the validity of email.\n",
    "- We return False if any condition is violated.\n",
    "- We return True after every condition is checked.\n",
    "- We then take a user input and store it in variable named email_address.\n",
    "- We then check if the email_address is valid or not using is_valid_email() method.\n",
    "- If the method returns true, we print the valid message.\n",
    "- If the method returns false, we print the invalid message.\n",
    "\n",
    "### Note:- There are only a few conditions defined in the function. For a valid email address, there can be more condition checks, which we will include in the future."
   ]
  },
  {
   "cell_type": "markdown",
   "metadata": {},
   "source": [
    "### Q7) Write a program to find if a string literal is a Palindrome"
   ]
  },
  {
   "cell_type": "code",
   "execution_count": 7,
   "metadata": {},
   "outputs": [
    {
     "name": "stdout",
     "output_type": "stream",
     "text": [
      "You gave good as input.\n",
      "The string is not a palindrome\n"
     ]
    }
   ],
   "source": [
    "test_string = input(\"Enter the string to check for Palindrome:- \")\n",
    "print(\"You gave\", test_string, \"as input.\")\n",
    "flag = 1\n",
    "for i in range(0, len(test_string)):\n",
    "    if test_string[i] != test_string[len(test_string)-i-1]:\n",
    "        print(\"The string is not a palindrome\")\n",
    "        flag = 0\n",
    "        break\n",
    "\n",
    "if flag == 1:\n",
    "    print(\"The string is a palindrome\")"
   ]
  },
  {
   "cell_type": "markdown",
   "metadata": {},
   "source": [
    "### Explanation\n",
    "\n",
    "- We first take an input from the user using input() method.\n",
    "- We then store the input in variable named test_string.\n",
    "- We then initialize a variable named flag with a value of 1.\n",
    "- We then start a loop from i=0 to i=len(test_string) with a step of 1.\n",
    "- In each loop:-\n",
    "    - We check if test_string[i] is equal to test_string[len(test_string)-i-1].\n",
    "    - If yes, we continue the loop.\n",
    "    - If no, we assign flag=0 and break out from the for loop.\n",
    "- We then check if flag is equal to 1.\n",
    "- If yes, we print the true message using print() method."
   ]
  },
  {
   "cell_type": "markdown",
   "metadata": {},
   "source": [
    "### Q8) Write a program to input a number and print Fibonnacci Series"
   ]
  },
  {
   "cell_type": "code",
   "execution_count": 8,
   "metadata": {},
   "outputs": [
    {
     "name": "stdout",
     "output_type": "stream",
     "text": [
      "You gave 10 as input.\n",
      "Fibonacci sequence upto 10 terms is:- 0 1 1 2 3 5 8 13 21 34 "
     ]
    }
   ],
   "source": [
    "t1,t2 = 0,1\n",
    "\n",
    "next_term = t1 + t2\n",
    "\n",
    "n = int(input(\"Enter the number of terms:- \"))\n",
    "\n",
    "print(\"You gave\", n, \"as input.\")\n",
    "\n",
    "if n <= 0:\n",
    "    print(\"You need to give a positive integer.\")\n",
    "elif n == 1:\n",
    "    print(\"Fibonacci sequence upto\", n, \"term is:-\", t1)\n",
    "elif n == 2:\n",
    "    print(\"Fibonacci sequence upto\", n, \"terms is:-\", t1, t2)\n",
    "else:\n",
    "    print(\"Fibonacci sequence upto\", n, \"terms is:-\", t1, t2, end=\" \")\n",
    "    for i in range(3, n+1):\n",
    "        print(next_term, end=\" \")\n",
    "        t1 = t2\n",
    "        t2 = next_term\n",
    "        next_term = t1 + t2\n"
   ]
  },
  {
   "cell_type": "markdown",
   "metadata": {},
   "source": [
    "### Explanation\n",
    "\n",
    "- We initialize t1=0 and t2=1\n",
    "- We then compute t1+t2 and store it in next_term.\n",
    "- We then take the number of terms from user and store it in n.\n",
    "- We then take care of base cases upto n=2.\n",
    "- We then start a loop from i=3 to i=n+1 with a step of 1.\n",
    "- In each loop:-\n",
    "    - We print the value of next_term using print() method.\n",
    "    - We assign t1=t2 and t2=next_term.\n",
    "    - We then compute t1+t2 and store it in next_term."
   ]
  },
  {
   "cell_type": "markdown",
   "metadata": {},
   "source": [
    "### Q9) Write a program to implement sine wave."
   ]
  },
  {
   "cell_type": "code",
   "execution_count": 9,
   "metadata": {},
   "outputs": [
    {
     "name": "stdout",
     "output_type": "stream",
     "text": [
      "Approximated sine at 30.0  degrees: 0.49999999999999994\n"
     ]
    }
   ],
   "source": [
    "def factorial(n):\n",
    "    if n == 0:\n",
    "        return 1\n",
    "    else:\n",
    "        return n * factorial(n - 1)\n",
    "\n",
    "\n",
    "def sine(x, terms):\n",
    "    result = 0\n",
    "    for n in range(terms):\n",
    "        term = ((-1) ** n) * (x ** (2 * n + 1)) / factorial(2 * n + 1)\n",
    "        result += term\n",
    "    return result\n",
    "\n",
    "\n",
    "angle_degrees = float(input(\"Enter the angle in degrees: \"))\n",
    "angle_radians = angle_degrees * (3.141592653589793 / 180)\n",
    "num_terms = int(input(\"Enter the number of terms to use in the approximation: \"))\n",
    "\n",
    "approximated_sine = sine(angle_radians, num_terms)\n",
    "print(\"Approximated sine at\", angle_degrees,\" degrees:\", approximated_sine)\n"
   ]
  },
  {
   "cell_type": "markdown",
   "metadata": {},
   "source": [
    "### Explanation\n",
    "\n",
    "- We define a factorial function.\n",
    "- We define the sine function based on Maclaurian Series.\n",
    "- We then take angle in degrees from user.\n",
    "- We then convert the angle to radians.\n",
    "- We then take the number of terms from user.\n",
    "- We then pass these arguments through the sine function.\n",
    "- We then print the value of sine using print() method."
   ]
  },
  {
   "cell_type": "markdown",
   "metadata": {},
   "source": [
    "### Q10) Write a program to input a string from user and print the words in string."
   ]
  },
  {
   "cell_type": "code",
   "execution_count": 10,
   "metadata": {},
   "outputs": [
    {
     "name": "stdout",
     "output_type": "stream",
     "text": [
      "Input String:-  This is ,DSTT, class\n",
      "This is  DSTT  class\n"
     ]
    }
   ],
   "source": [
    "user_string = input(\"Enter the string:- \")\n",
    "print(\"Input String:- \",user_string)\n",
    "\n",
    "pivot,idx = 0,0\n",
    "\n",
    "for x in user_string:\n",
    "    if x == \",\":\n",
    "        print(user_string[pivot:idx],end=\" \")\n",
    "        pivot = idx + 1\n",
    "    idx += 1\n",
    "print(user_string[pivot:idx])"
   ]
  },
  {
   "cell_type": "markdown",
   "metadata": {},
   "source": [
    "### Explanation\n",
    "\n",
    "- We first take an input from the user using input() method.\n",
    "- We then store the input in variable named user_string.\n",
    "- We then initialize pivot=0 and idx=0\n",
    "- We then iterate within the user_string.\n",
    "- In each iteration:-\n",
    "    - We check if user_string[idx] is equal to \",\".\n",
    "    - If yes, we print the string user_string[pivot:idx] using print() method.\n",
    "    - We assign pivot=idx+1 and idx=idx+1.\n",
    "    - If no, we increment idx by 1.\n",
    "- We then print the string user_string[pivot:] using print() method."
   ]
  },
  {
   "cell_type": "markdown",
   "metadata": {},
   "source": [
    "### Q11) Write a program to input a string from user and count the number of alphabets and numbers in the string."
   ]
  },
  {
   "cell_type": "code",
   "execution_count": 11,
   "metadata": {},
   "outputs": [
    {
     "name": "stdout",
     "output_type": "stream",
     "text": [
      "Input String:-  Am@604\n",
      "Number of alphabets:-  2\n",
      "Number of digits:-  3\n"
     ]
    }
   ],
   "source": [
    "num_alpha,num_digits = 0,0\n",
    "\n",
    "user_string = input(\"Enter the string:- \")\n",
    "print(\"Input String:- \",user_string)\n",
    "\n",
    "for x in user_string:\n",
    "    if (x >= 'A' and x <= 'Z') or (x >= 'a' and x <= 'z'):\n",
    "        num_alpha += 1\n",
    "    elif x >= '0' and x <= '9':\n",
    "        num_digits += 1\n",
    "    else:\n",
    "        pass\n",
    "\n",
    "print(\"Number of alphabets:- \",num_alpha)\n",
    "print(\"Number of digits:- \",num_digits)"
   ]
  },
  {
   "cell_type": "markdown",
   "metadata": {},
   "source": [
    "### Explanation\n",
    "\n",
    "- We first initialize num_alpha and num_digits to 0.\n",
    "- We then take an input from the user using input() method.\n",
    "- We then store the input in variable named user_string.\n",
    "- We then iterate within the user_string using a variable x.\n",
    "- In each iteration:-\n",
    "    - We check if x is an alphabet using conditions.\n",
    "    - If yes, we increment num_alpha by 1.\n",
    "    - We check if x is a digit using conditions.\n",
    "    - If yes, we increment num_digits by 1.\n",
    "- We then print the values of num_alpha and num_digits using print() method.\n"
   ]
  },
  {
   "cell_type": "markdown",
   "metadata": {},
   "source": [
    "### Q12) Write a program to implement f(x) = max(0,x)"
   ]
  },
  {
   "cell_type": "code",
   "execution_count": 12,
   "metadata": {},
   "outputs": [
    {
     "name": "stdout",
     "output_type": "stream",
     "text": [
      "f( 5.0 ) =  5.0\n"
     ]
    }
   ],
   "source": [
    "x = float(input(\"Enter a value\"))\n",
    "\n",
    "if x >= 0:\n",
    "    print(\"f(\",x,\") = \",x)\n",
    "else:\n",
    "    print(\"f(\",x,\") = 0\")"
   ]
  },
  {
   "cell_type": "markdown",
   "metadata": {},
   "source": [
    "### Explanation\n",
    "\n",
    "- We first take an input from the user using input() method.\n",
    "- We then store the input in variable named x after converting it to float.\n",
    "- We then check if x is greater than or equal to 0.\n",
    "- If yes, we print the value of f(x) as x using print() method.\n",
    "- If no, we print the value of f(x) as 0 using print() method."
   ]
  },
  {
   "cell_type": "markdown",
   "metadata": {},
   "source": [
    "### Q13) Write a program to implement f'(x) for the above function"
   ]
  },
  {
   "cell_type": "code",
   "execution_count": 13,
   "metadata": {},
   "outputs": [
    {
     "name": "stdout",
     "output_type": "stream",
     "text": [
      "f'( -2.0 ) = 0\n"
     ]
    }
   ],
   "source": [
    "x = float(input(\"Enter a value\"))\n",
    "\n",
    "if x > 0:\n",
    "    print(\"f'(\",x,\") = \",1)\n",
    "elif x == 0:\n",
    "    print(\"f'(0) does not exist as max function is not differentiable at x = 0\")\n",
    "else:\n",
    "    print(\"f'(\",x,\") = 0\")"
   ]
  },
  {
   "cell_type": "markdown",
   "metadata": {},
   "source": [
    "### Explanation\n",
    "\n",
    "- We first take an input from the user using input() method.\n",
    "- We then store the input in variable named x after converting it to float.\n",
    "- We then check if x is greater than 0.\n",
    "- If yes, we print the value of f'(x) as 1 using print() method.\n",
    "- We then check if x is equal to 0.\n",
    "- If yes, we then print the non differentiable statement.\n",
    "- If no, we print the value of f'(x) as 0 using print() method."
   ]
  }
 ],
 "metadata": {
  "kernelspec": {
   "display_name": "Python 3",
   "language": "python",
   "name": "python3"
  },
  "language_info": {
   "codemirror_mode": {
    "name": "ipython",
    "version": 3
   },
   "file_extension": ".py",
   "mimetype": "text/x-python",
   "name": "python",
   "nbconvert_exporter": "python",
   "pygments_lexer": "ipython3",
   "version": "3.6.8"
  },
  "orig_nbformat": 4
 },
 "nbformat": 4,
 "nbformat_minor": 2
}
